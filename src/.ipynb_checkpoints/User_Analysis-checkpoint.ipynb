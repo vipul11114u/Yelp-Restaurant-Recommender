{
 "cells": [
  {
   "cell_type": "code",
   "execution_count": 89,
   "metadata": {
    "collapsed": true
   },
   "outputs": [],
   "source": [
    "import pandas as pd\n",
    "import numpy as np\n",
    "import pandas as pd\n",
    "import json \n",
    "import matplotlib.pyplot as plt\n",
    "%matplotlib inline\n",
    "import pickle\n",
    "import operator\n",
    "from math import sin, cos, sqrt, atan2, radians"
   ]
  },
  {
   "cell_type": "markdown",
   "metadata": {},
   "source": [
    "### Loading all of the data structures from pickle files\n",
    "\n",
    " **userStateAllRestaurantdict**     \n",
    "* key : (user_id , state)\n",
    "* value: [list of all restaurants in that state]\n",
    "\n",
    "\n",
    " **userRestaurantDict**\n",
    "* key : user_id\n",
    "* value : [list of restaurants visited by that user]"
   ]
  },
  {
   "cell_type": "code",
   "execution_count": 5,
   "metadata": {
    "collapsed": true
   },
   "outputs": [],
   "source": [
    "with open('pickle/userStateAllRestaurantdict.pickle', 'rb') as handle:\n",
    "    userStateAllRestaurantdict = pickle.load(handle)\n",
    "    \n",
    "with open('pickle/userRestaurantDict.pickle', 'rb') as handle:\n",
    "    userRestaurantDict = pickle.load(handle)\n",
    "    \n",
    "# with open('pickle/megaUserFriendDict.pickle', 'rb') as handle:\n",
    "#     megaUserFriendDict = pickle.load(handle)\n",
    "\n",
    "with open('pickle/businessToUserRatingDict.pickle', 'rb') as handle:\n",
    "    businessToUserRatingDict = pickle.load(handle)"
   ]
  },
  {
   "cell_type": "code",
   "execution_count": null,
   "metadata": {
    "collapsed": true
   },
   "outputs": [],
   "source": []
  },
  {
   "cell_type": "code",
   "execution_count": null,
   "metadata": {
    "collapsed": true
   },
   "outputs": [],
   "source": [
    "businessIdVsStarDict = dict()\n",
    "f = open('restaurant.json', 'r')\n",
    "for line in f:\n",
    "    jsonObject = json.loads(line)\n",
    "    businessIdVsStarDict[jsonObject.get('business_id')] = jsonObject.get('stars')\n",
    "f.close()"
   ]
  },
  {
   "cell_type": "code",
   "execution_count": 16,
   "metadata": {
    "collapsed": true
   },
   "outputs": [],
   "source": [
    "#get visited restaurants for a user from state\n",
    "def getVisitedFromState(userId,state):\n",
    "    restaurants = set(userStateAllRestaurantdict.get((userId,state)))\n",
    "    visited = set(userRestaurantDict.get(userId))\n",
    "    return set.intersection(restaurants, visited)"
   ]
  },
  {
   "cell_type": "code",
   "execution_count": 13,
   "metadata": {
    "collapsed": true
   },
   "outputs": [],
   "source": [
    "# get all user id list from a state\n",
    "def getAllUsersFromState(state):\n",
    "    res = list()\n",
    "    f = open('States/'+state+'.txt','r')\n",
    "    for line in f:\n",
    "        res.append(line.split('\\t')[0])\n",
    "    f.close()\n",
    "    return res"
   ]
  },
  {
   "cell_type": "code",
   "execution_count": null,
   "metadata": {
    "collapsed": true
   },
   "outputs": [],
   "source": [
    "def getRestRating(rest_id, user1, user2):\n",
    "    rating1=0, rating2=0\n",
    "    for tup in businessToUserRatingDict.get(rest_id):\n",
    "        if tup[0] == user1:\n",
    "            rating1 = tup[1]\n",
    "        elif tup[0] == user2:\n",
    "            rating2 = tup[1]\n",
    "        if rating1 !=0 and rating2!=0:\n",
    "            break\n",
    "    return (rating1,rating2,businessIdVsStarDict.get(rest_id))"
   ]
  },
  {
   "cell_type": "code",
   "execution_count": null,
   "metadata": {
    "collapsed": true
   },
   "outputs": [],
   "source": [
    "def cleanUserList(userList):\n",
    "    res = list()\n",
    "    for user in userList:\n",
    "        if user in megaUserFriendDict:\n",
    "            res.append(user)\n",
    "    return res"
   ]
  },
  {
   "cell_type": "code",
   "execution_count": null,
   "metadata": {
    "collapsed": true
   },
   "outputs": [],
   "source": [
    "#Get dict <user_id, <friend_list>> for 'OH' state\n",
    "def getFriendMapForState(state):\n",
    "    allUserList = getAllUsersFromState(state)\n",
    "    friendDict = dict()\n",
    "    for user in allUserList:\n",
    "        friendDict[user] = megaUserFriendDict.get(user)\n",
    "    for key in friendDict:\n",
    "        friendDict[key] = cleanUserList(friendDict.get(key))\n",
    "    return friendDict"
   ]
  },
  {
   "cell_type": "code",
   "execution_count": null,
   "metadata": {
    "collapsed": true
   },
   "outputs": [],
   "source": [
    "# for each user lets check weather all of the friends have eaten to any common restaurant\n",
    "state = 'BW'\n",
    "userFriendMap = getFriendMapForState(state)\n",
    "print \"Number of users in state BW = \",len(userFriendMap)\n",
    "for user_id in userFriendMap:\n",
    "    common_rest = set(getVisitedFromState(user_id, state))\n",
    "    for friend_id in userFriendMap.get(user_id):\n",
    "        common_rest = set.intersection(common_rest,getVisitedFromState(friend_id, state))\n",
    "    print user_id, \" no of common restaurants accross friends: \",len(common_rest)"
   ]
  },
  {
   "cell_type": "code",
   "execution_count": null,
   "metadata": {
    "collapsed": true
   },
   "outputs": [],
   "source": [
    "# for each user calculate the mean value of these two for common visited restaurants\n",
    "\n",
    "# user-friend rating difference\n",
    "# friend - avg rating difference\n",
    "state = 'BW'\n",
    "userFriendMap = getFriendMapForState(state)\n",
    "print \"Number of users in state \",state,\" = \",len(userFriendMap)\n",
    "\n",
    "#printing for 2 users for now\n",
    "limit = 0\n",
    "\n",
    "for user_id in userFriendMap:\n",
    "    print \"========= For user \",user_id,\"=============\"\n",
    "    limit += 1\n",
    "    if limit >= 2:\n",
    "        break\n",
    "    user_rest = set(getVisitedFromState(user_id, state))\n",
    "    for friend_id in userFriendMap.get(user_id):\n",
    "        friend_rest = set(getVisitedFromState(friend_id, state))\n",
    "        common_rest = set.intersection(user_rest,friend_rest)\n",
    "        if len(common_rest) == 0:\n",
    "            print \"No common rest b/w \", user_id,\"  \",friend_id\n",
    "        else:\n",
    "            for rest_id in common_rest:\n",
    "                user_rating, friend_rating, avg_rating  = getRestRating(rest_id, user_id, friend_id)\n",
    "                print \"uid = \",user_id,\" fid = \",friend_id,\" rest_id = \",rest_id\n",
    "                print \"u_rating = \",user_rating,\" f_rating = \",friend_rating,\" avg_rating = \",avg_rating\n",
    "    print \"================================================\""
   ]
  },
  {
   "cell_type": "code",
   "execution_count": 41,
   "metadata": {},
   "outputs": [
    {
     "name": "stdout",
     "output_type": "stream",
     "text": [
      "98\n"
     ]
    }
   ],
   "source": [
    "#read user.json\n",
    "\n",
    "f = open('user.json','r')\n",
    "for line in f:\n",
    "    jsonObject = json.loads(line)\n",
    "    #print jsonObject.get('user_id'),\"===>\", len(jsonObject.get('friends'))\n",
    "    if jsonObject.get('user_id') == 'GPXeCXlwepOq8AVccRXZiA':\n",
    "        print len(jsonObject.get('friends'))\n",
    "        break\n",
    "        \n",
    "f.close()"
   ]
  },
  {
   "cell_type": "code",
   "execution_count": 12,
   "metadata": {},
   "outputs": [
    {
     "name": "stdout",
     "output_type": "stream",
     "text": [
      "{\"review_id\":\"VfBHSwC5Vz_pbFluy07i9Q\",\"user_id\":\"cjpdDjZyprfyDG3RlkVG3w\",\"business_id\":\"uYHaNptLzDLoV_JZ_MuzUA\",\"stars\":5,\"date\":\"2016-07-12\",\"text\":\"My girlfriend and I stayed here for 3 nights and loved it. The location of this hotel and very decent price makes this an amazing deal. When you walk out the front door Scott Monument and Princes street are right in front of you, Edinburgh Castle and the Royal Mile is a 2 minute walk via a close right around the corner, and there are so many hidden gems nearby including Calton Hill and the newly opened Arches that made this location incredible.\\n\\nThe hotel itself was also very nice with a reasonably priced bar, very considerate staff, and small but comfortable rooms with excellent bathrooms and showers. Only two minor complaints are no telephones in room for room service (not a huge deal for us) and no AC in the room, but they have huge windows which can be fully opened. The staff were incredible though, letting us borrow umbrellas for the rain, giving us maps and directions, and also when we had lost our only UK adapter for charging our phones gave us a very fancy one for free.\\n\\nI would highly recommend this hotel to friends, and when I return to Edinburgh (which I most definitely will) I will be staying here without any hesitation.\",\"useful\":0,\"funny\":0,\"cool\":0}\n",
      "\n"
     ]
    }
   ],
   "source": [
    "f1 = open('review.json','r')\n",
    "#jsonObject = json.loads(f.readline())\n",
    "print f1.readline()\n",
    "f1.close()"
   ]
  },
  {
   "cell_type": "markdown",
   "metadata": {},
   "source": [
    "## Correlation analysis b/w  between the user ratings, a business receives and the number of reviewers it has"
   ]
  },
  {
   "cell_type": "markdown",
   "metadata": {},
   "source": [
    "### creating hash map of restaurant id vs number of reviews it has"
   ]
  },
  {
   "cell_type": "code",
   "execution_count": 34,
   "metadata": {
    "collapsed": true
   },
   "outputs": [],
   "source": [
    "def getUserRating(user,rest_id):\n",
    "    for tup in businessToUserRatingDict.get(rest_id):\n",
    "        if tup[0] == user:\n",
    "            return tup[1]"
   ]
  },
  {
   "cell_type": "code",
   "execution_count": 8,
   "metadata": {},
   "outputs": [
    {
     "name": "stdout",
     "output_type": "stream",
     "text": [
      "rnvsL0oFZpzpO61GXqBF6g\n"
     ]
    }
   ],
   "source": [
    "for key in businessToUserRatingDict:\n",
    "    print key\n",
    "    break;"
   ]
  },
  {
   "cell_type": "code",
   "execution_count": 11,
   "metadata": {
    "collapsed": true
   },
   "outputs": [],
   "source": [
    "temp_map = dict()\n",
    "f = open('review.json','r')\n",
    "for line in f:\n",
    "    jsonObject = json.loads(line)\n",
    "    business_id = jsonObject.get(\"business_id\")\n",
    "    if temp_map.__contains__(business_id) == False:\n",
    "        temp_map[business_id] = 1\n",
    "    else:\n",
    "        temp_map[business_id] = 1 + temp_map.get(business_id)        \n",
    "f.close()\n",
    "\n",
    "rest_reviewcount_map = dict()\n",
    "for bus_id in temp_map:\n",
    "    if businessToUserRatingDict.__contains__(bus_id) == True:\n",
    "        rest_reviewcount_map[bus_id] = temp_map.get(bus_id)"
   ]
  },
  {
   "cell_type": "markdown",
   "metadata": {},
   "source": [
    "## now rest_reviewcount_map has rest_id vs number of reviews"
   ]
  },
  {
   "cell_type": "code",
   "execution_count": 12,
   "metadata": {},
   "outputs": [
    {
     "data": {
      "text/plain": [
       "75911"
      ]
     },
     "execution_count": 12,
     "metadata": {},
     "output_type": "execute_result"
    }
   ],
   "source": [
    "len(rest_reviewcount_map)"
   ]
  },
  {
   "cell_type": "markdown",
   "metadata": {},
   "source": [
    "# for QC state "
   ]
  },
  {
   "cell_type": "code",
   "execution_count": 17,
   "metadata": {
    "collapsed": true
   },
   "outputs": [],
   "source": [
    "st = \"QC\"\n",
    "user_list = getAllUsersFromState(st)"
   ]
  },
  {
   "cell_type": "code",
   "execution_count": 40,
   "metadata": {
    "collapsed": true
   },
   "outputs": [],
   "source": [
    "user_rest_map = dict() #user id vs visited rest for users rated more than 100 restaurants \n",
    "for user in user_list:\n",
    "    res = getVisitedFromState(user,st)\n",
    "    if len(res)>50:\n",
    "        user_rest_map[user] = res"
   ]
  },
  {
   "cell_type": "code",
   "execution_count": 41,
   "metadata": {},
   "outputs": [
    {
     "name": "stdout",
     "output_type": "stream",
     "text": [
      "For state QC\n",
      "Number of user is :  215\n",
      "Total restaurant rated is :  20565\n",
      "Total distinct restaurnts :  4713\n"
     ]
    }
   ],
   "source": [
    "# number of users having more than 100 restaurant rated is \n",
    "\n",
    "print \"For state QC\\nNumber of user is : \",len(user_rest_map)\n",
    "total_rest = 0\n",
    "for user in user_rest_map:\n",
    "    total_rest += len(user_rest_map.get(user))\n",
    "print \"Total restaurant rated is : \", total_rest\n",
    "\n",
    "#get a set of all restaurant than make a dict for those restaurants \n",
    "rests = set()\n",
    "for u in user_rest_map:\n",
    "    rests = set.union(rests,user_rest_map.get(u))\n",
    "print \"Total distinct restaurnts : \", len(rests)"
   ]
  },
  {
   "cell_type": "code",
   "execution_count": 42,
   "metadata": {
    "collapsed": true
   },
   "outputs": [],
   "source": [
    "user_rating = list()\n",
    "rest_total_review = list()\n",
    "for user in user_rest_map:\n",
    "    for rest in user_rest_map.get(user):\n",
    "        rating = getUserRating(user,rest)\n",
    "        user_rating.append(rating)\n",
    "        rest_total_review.append(rest_reviewcount_map.get(rest))"
   ]
  },
  {
   "cell_type": "code",
   "execution_count": 53,
   "metadata": {},
   "outputs": [
    {
     "name": "stdout",
     "output_type": "stream",
     "text": [
      "20565\n",
      "20565\n"
     ]
    },
    {
     "data": {
      "text/plain": [
       "array([[ 1.        ,  0.06309502],\n",
       "       [ 0.06309502,  1.        ]])"
      ]
     },
     "execution_count": 53,
     "metadata": {},
     "output_type": "execute_result"
    }
   ],
   "source": [
    "print len(user_rating)\n",
    "print len(rest_total_review)\n",
    "np.corrcoef(user_rating,rest_total_review)"
   ]
  },
  {
   "cell_type": "code",
   "execution_count": 111,
   "metadata": {
    "collapsed": true
   },
   "outputs": [],
   "source": [
    "import matplotlib.pyplot as plt\n",
    "def plot(a,b,labelx=\"Rating\", labely=\"Number of reviews\"):\n",
    "    plt.scatter(a,b,s=1,c='green')\n",
    "    plt.xlabel(labelx)\n",
    "    plt.ylabel(labely)\n",
    "    plt.rcParams.update({'font.size': 25})\n",
    "    fig = plt.gcf()\n",
    "    fig.set_size_inches(10.5,5.5)\n",
    "    plt.show()"
   ]
  },
  {
   "cell_type": "code",
   "execution_count": 118,
   "metadata": {
    "collapsed": true
   },
   "outputs": [],
   "source": [
    "def printStatForState(st = \"QC\", limit = 50):\n",
    "    print \"State = \",st\n",
    "    user_list = getAllUsersFromState(st)\n",
    "    user_rest_map = dict() #user id vs visited rest for users rated more than 100 restaurants \n",
    "    for user in user_list:\n",
    "        res = getVisitedFromState(user,st)\n",
    "        if len(res)>limit:\n",
    "            user_rest_map[user] = res\n",
    "        # number of users having more than 100 restaurant rated is \n",
    "\n",
    "    print \"Number of users are : \",len(user_rest_map)\n",
    "    total_rest = 0\n",
    "    for user in user_rest_map:\n",
    "        total_rest += len(user_rest_map.get(user))\n",
    "    print \"Total restaurant rated is : \", total_rest\n",
    "\n",
    "    #get a set of all restaurant than make a dict for those restaurants \n",
    "    rests = set()\n",
    "    for u in user_rest_map:\n",
    "        rests = set.union(rests,user_rest_map.get(u))\n",
    "    print \"Total distinct restaurnts : \", len(rests)\n",
    "    user_rating = list()\n",
    "    rest_total_review = list()\n",
    "    for user in user_rest_map:\n",
    "        for rest in user_rest_map.get(user):\n",
    "            rating = getUserRating(user,rest)\n",
    "            user_rating.append(rating)\n",
    "            rest_total_review.append(rest_reviewcount_map.get(rest))\n",
    "    print \"correlation matrix : \"\n",
    "    print  np.corrcoef(user_rating,rest_total_review)\n",
    "    print \"\\n\\n\"\n",
    "    #plot(user_rating,rest_total_review)"
   ]
  },
  {
   "cell_type": "code",
   "execution_count": 119,
   "metadata": {},
   "outputs": [
    {
     "name": "stdout",
     "output_type": "stream",
     "text": [
      "State =  QC\n",
      "Number of users are :  215\n",
      "Total restaurant rated is :  20565\n",
      "Total distinct restaurnts :  4713\n",
      "correlation matrix : \n",
      "[[ 1.          0.06309502]\n",
      " [ 0.06309502  1.        ]]\n",
      "\n",
      "\n",
      "\n",
      "State =  BW\n",
      "Number of users are :  24\n",
      "Total restaurant rated is :  2085\n",
      "Total distinct restaurnts :  1113\n",
      "correlation matrix : \n",
      "[[ 1.         -0.00454696]\n",
      " [-0.00454696  1.        ]]\n",
      "\n",
      "\n",
      "\n",
      "State =  PA\n",
      "Number of users are :  316\n",
      "Total restaurant rated is :  31783\n",
      "Total distinct restaurnts :  4020\n",
      "correlation matrix : \n",
      "[[ 1.        0.098605]\n",
      " [ 0.098605  1.      ]]\n",
      "\n",
      "\n",
      "\n",
      "State =  WI\n",
      "Number of users are :  140\n",
      "Total restaurant rated is :  11868\n",
      "Total distinct restaurnts :  1767\n",
      "correlation matrix : \n",
      "[[ 1.          0.12508712]\n",
      " [ 0.12508712  1.        ]]\n",
      "\n",
      "\n",
      "\n",
      "State =  EDH\n",
      "Number of users are :  95\n",
      "Total restaurant rated is :  11509\n",
      "Total distinct restaurnts :  2033\n",
      "correlation matrix : \n",
      "[[ 1.          0.08702056]\n",
      " [ 0.08702056  1.        ]]\n",
      "\n",
      "\n",
      "\n",
      "State =  IL\n",
      "Number of users are :  28\n",
      "Total restaurant rated is :  2166\n",
      "Total distinct restaurnts :  603\n",
      "correlation matrix : \n",
      "[[ 1.          0.20412037]\n",
      " [ 0.20412037  1.        ]]\n",
      "\n",
      "\n",
      "\n",
      "State =  OH\n",
      "Number of users are :  319\n",
      "Total restaurant rated is :  30817\n",
      "Total distinct restaurnts :  5075\n",
      "correlation matrix : \n",
      "[[ 1.          0.10234385]\n",
      " [ 0.10234385  1.        ]]\n",
      "\n",
      "\n",
      "\n"
     ]
    }
   ],
   "source": [
    "state_list = [\"QC\",\"BW\",\"PA\",\"WI\",\"EDH\",\"IL\",\"OH\"]\n",
    "for item in state_list:\n",
    "    printStatForState(item)"
   ]
  },
  {
   "cell_type": "code",
   "execution_count": 121,
   "metadata": {
    "scrolled": false
   },
   "outputs": [
    {
     "data": {
      "text/html": [
       "<div>\n",
       "<style>\n",
       "    .dataframe thead tr:only-child th {\n",
       "        text-align: right;\n",
       "    }\n",
       "\n",
       "    .dataframe thead th {\n",
       "        text-align: left;\n",
       "    }\n",
       "\n",
       "    .dataframe tbody tr th {\n",
       "        vertical-align: top;\n",
       "    }\n",
       "</style>\n",
       "<table border=\"1\" class=\"dataframe\">\n",
       "  <thead>\n",
       "    <tr style=\"text-align: right;\">\n",
       "      <th></th>\n",
       "      <th>State</th>\n",
       "      <th>Corr Coeff.</th>\n",
       "    </tr>\n",
       "  </thead>\n",
       "  <tbody>\n",
       "    <tr>\n",
       "      <th>0</th>\n",
       "      <td>QC</td>\n",
       "      <td>0.063095</td>\n",
       "    </tr>\n",
       "    <tr>\n",
       "      <th>1</th>\n",
       "      <td>BW</td>\n",
       "      <td>-0.004547</td>\n",
       "    </tr>\n",
       "    <tr>\n",
       "      <th>2</th>\n",
       "      <td>PA</td>\n",
       "      <td>0.098605</td>\n",
       "    </tr>\n",
       "    <tr>\n",
       "      <th>3</th>\n",
       "      <td>WI</td>\n",
       "      <td>0.125087</td>\n",
       "    </tr>\n",
       "    <tr>\n",
       "      <th>4</th>\n",
       "      <td>EDH</td>\n",
       "      <td>0.087021</td>\n",
       "    </tr>\n",
       "    <tr>\n",
       "      <th>5</th>\n",
       "      <td>IL</td>\n",
       "      <td>0.204120</td>\n",
       "    </tr>\n",
       "    <tr>\n",
       "      <th>6</th>\n",
       "      <td>OH</td>\n",
       "      <td>0.102344</td>\n",
       "    </tr>\n",
       "  </tbody>\n",
       "</table>\n",
       "</div>"
      ],
      "text/plain": [
       "  State  Corr Coeff.\n",
       "0    QC     0.063095\n",
       "1    BW    -0.004547\n",
       "2    PA     0.098605\n",
       "3    WI     0.125087\n",
       "4   EDH     0.087021\n",
       "5    IL     0.204120\n",
       "6    OH     0.102344"
      ]
     },
     "execution_count": 121,
     "metadata": {},
     "output_type": "execute_result"
    }
   ],
   "source": [
    "corr_list = [0.06309502,-0.00454696,0.098605,0.12508712,0.08702056,0.20412037,0.10234385] \n",
    "df = pd.DataFrame(np.array(state_list), columns = {\"State\"})\n",
    "df[\"Corr Coeff.\" ] = np.array(corr_list)\n",
    "df.head(10)"
   ]
  },
  {
   "cell_type": "code",
   "execution_count": 73,
   "metadata": {
    "collapsed": true
   },
   "outputs": [
    {
     "name": "stdout",
     "output_type": "stream",
     "text": [
      "State =  QC\n",
      "Number of users are :  215\n",
      "Total restaurant rated is :  20565\n",
      "Total distinct restaurnts :  4713\n",
      "correlation matrix : \n",
      "[[ 1.          0.06309502]\n",
      " [ 0.06309502  1.        ]]\n",
      "\n",
      "\n",
      "\n"
     ]
    },
    {
     "data": {
      "image/png": "[encoded data removed]",
      "text/plain": [
       "<matplotlib.figure.Figure at 0x12f1044d0>"
      ]
     },
     "metadata": {},
     "output_type": "display_data"
    },
    {
     "name": "stdout",
     "output_type": "stream",
     "text": [
      "State =  BW\n",
      "Number of users are :  24\n",
      "Total restaurant rated is :  2085\n",
      "Total distinct restaurnts :  1113\n",
      "correlation matrix : \n",
      "[[ 1.         -0.00454696]\n",
      " [-0.00454696  1.        ]]\n",
      "\n",
      "\n",
      "\n"
     ]
    },
    {
     "data": {
      "image/png": "[encoded data removed]",
      "text/plain": [
       "<matplotlib.figure.Figure at 0x12d1b4e90>"
      ]
     },
     "metadata": {},
     "output_type": "display_data"
    },
    {
     "name": "stdout",
     "output_type": "stream",
     "text": [
      "State =  PA\n",
      "Number of users are :  316\n",
      "Total restaurant rated is :  31783\n",
      "Total distinct restaurnts :  4020\n",
      "correlation matrix : \n",
      "[[ 1.        0.098605]\n",
      " [ 0.098605  1.      ]]\n",
      "\n",
      "\n",
      "\n"
     ]
    },
    {
     "data": {
      "image/png": "[encoded data removed]",
      "text/plain": [
       "<matplotlib.figure.Figure at 0x12351e8d0>"
      ]
     },
     "metadata": {},
     "output_type": "display_data"
    },
    {
     "name": "stdout",
     "output_type": "stream",
     "text": [
      "State =  WI\n",
      "Number of users are :  140\n",
      "Total restaurant rated is :  11868\n",
      "Total distinct restaurnts :  1767\n",
      "correlation matrix : \n",
      "[[ 1.          0.12508712]\n",
      " [ 0.12508712  1.        ]]\n",
      "\n",
      "\n",
      "\n"
     ]
    },
    {
     "data": {
      "image/png": "[encoded data removed]",
      "text/plain": [
       "<matplotlib.figure.Figure at 0x125ebc650>"
      ]
     },
     "metadata": {},
     "output_type": "display_data"
    }
   ],
   "source": [
    "state_list = [\"QC\",\"BW\",\"PA\",\"WI\"]\n",
    "for item in state_list:\n",
    "    printStatForState(item)"
   ]
  },
  {
   "cell_type": "markdown",
   "metadata": {},
   "source": [
    "# Fan information "
   ]
  },
  {
   "cell_type": "code",
   "execution_count": 113,
   "metadata": {
    "collapsed": true
   },
   "outputs": [],
   "source": [
    "f = open('user.json','r')\n",
    "num_fans = list()\n",
    "avg_rating = list()\n",
    "for line in f:\n",
    "    jsonObject = json.loads(line)\n",
    "    num_fans.append(jsonObject.get(\"fans\"))\n",
    "    avg_rating.append(jsonObject.get('average_stars'))\n",
    "f.close()"
   ]
  },
  {
   "cell_type": "code",
   "execution_count": 117,
   "metadata": {},
   "outputs": [
    {
     "name": "stdout",
     "output_type": "stream",
     "text": [
      "607 users more than 200 friends\n"
     ]
    }
   ],
   "source": [
    "count = 0\n",
    "for num in num_fans:\n",
    "    if num >= 200:\n",
    "        count += 1\n",
    "print count,\"users more than 200 friends\""
   ]
  },
  {
   "cell_type": "code",
   "execution_count": 114,
   "metadata": {},
   "outputs": [
    {
     "name": "stdout",
     "output_type": "stream",
     "text": [
      "max fans  6087\n"
     ]
    }
   ],
   "source": [
    "a = np.array(num_fans)\n",
    "print \"max fans \", np.amax(a) "
   ]
  },
  {
   "cell_type": "code",
   "execution_count": 115,
   "metadata": {
    "collapsed": true
   },
   "outputs": [
    {
     "data": {
      "text/plain": [
       "[(0, 915264),\n",
       " (1, 126539),\n",
       " (2, 44159),\n",
       " (3, 21906),\n",
       " (4, 13430),\n",
       " (5, 9025),\n",
       " (6, 6574),\n",
       " (7, 5019),\n",
       " (8, 4213),\n",
       " (9, 3311),\n",
       " (10, 2844),\n",
       " (11, 2386),\n",
       " (12, 2065),\n",
       " (13, 1818),\n",
       " (14, 1624),\n",
       " (15, 1542),\n",
       " (16, 1290),\n",
       " (17, 1187),\n",
       " (18, 1051),\n",
       " (19, 927),\n",
       " (20, 844),\n",
       " (21, 824),\n",
       " (22, 724),\n",
       " (23, 663),\n",
       " (24, 605),\n",
       " (25, 609),\n",
       " (26, 562),\n",
       " (27, 530),\n",
       " (28, 497),\n",
       " (29, 435),\n",
       " (30, 378),\n",
       " (31, 398),\n",
       " (32, 348),\n",
       " (33, 324),\n",
       " (34, 319),\n",
       " (35, 283),\n",
       " (36, 280),\n",
       " (37, 289),\n",
       " (38, 263),\n",
       " (39, 252),\n",
       " (40, 243),\n",
       " (41, 253),\n",
       " (42, 206),\n",
       " (43, 193),\n",
       " (44, 190),\n",
       " (45, 168),\n",
       " (46, 167),\n",
       " (47, 191),\n",
       " (48, 159),\n",
       " (49, 167),\n",
       " (50, 152),\n",
       " (51, 117),\n",
       " (52, 127),\n",
       " (53, 134),\n",
       " (54, 124),\n",
       " (55, 133),\n",
       " (56, 114),\n",
       " (57, 107),\n",
       " (58, 115),\n",
       " (59, 94),\n",
       " (60, 113),\n",
       " (61, 109),\n",
       " (62, 99),\n",
       " (63, 97),\n",
       " (64, 101),\n",
       " (65, 101),\n",
       " (66, 81),\n",
       " (67, 100),\n",
       " (68, 91),\n",
       " (69, 120),\n",
       " (70, 98),\n",
       " (71, 88),\n",
       " (72, 99),\n",
       " (73, 52),\n",
       " (74, 71),\n",
       " (75, 68),\n",
       " (76, 61),\n",
       " (77, 65),\n",
       " (78, 60),\n",
       " (79, 54),\n",
       " (80, 51),\n",
       " (81, 54),\n",
       " (82, 52),\n",
       " (83, 45),\n",
       " (84, 53),\n",
       " (85, 55),\n",
       " (86, 51),\n",
       " (87, 39),\n",
       " (88, 45),\n",
       " (89, 45),\n",
       " (90, 38),\n",
       " (91, 42),\n",
       " (92, 42),\n",
       " (93, 36),\n",
       " (94, 40),\n",
       " (95, 51),\n",
       " (96, 35),\n",
       " (97, 33),\n",
       " (98, 32),\n",
       " (99, 38),\n",
       " (100, 35),\n",
       " (101, 31),\n",
       " (102, 42),\n",
       " (103, 35),\n",
       " (104, 32),\n",
       " (105, 28),\n",
       " (106, 33),\n",
       " (107, 31),\n",
       " (108, 20),\n",
       " (109, 38),\n",
       " (110, 25),\n",
       " (111, 24),\n",
       " (112, 24),\n",
       " (113, 19),\n",
       " (114, 18),\n",
       " (115, 29),\n",
       " (116, 21),\n",
       " (117, 27),\n",
       " (118, 29),\n",
       " (119, 25),\n",
       " (120, 19),\n",
       " (121, 17),\n",
       " (122, 24),\n",
       " (123, 11),\n",
       " (124, 26),\n",
       " (125, 25),\n",
       " (126, 20),\n",
       " (127, 17),\n",
       " (128, 21),\n",
       " (129, 20),\n",
       " (130, 8),\n",
       " (131, 15),\n",
       " (132, 10),\n",
       " (133, 13),\n",
       " (134, 13),\n",
       " (135, 12),\n",
       " (136, 13),\n",
       " (137, 13),\n",
       " (138, 15),\n",
       " (139, 12),\n",
       " (140, 9),\n",
       " (141, 8),\n",
       " (142, 14),\n",
       " (143, 14),\n",
       " (144, 9),\n",
       " (145, 9),\n",
       " (146, 10),\n",
       " (147, 17),\n",
       " (148, 9),\n",
       " (149, 6),\n",
       " (150, 14),\n",
       " (151, 10),\n",
       " (152, 15),\n",
       " (153, 15),\n",
       " (154, 11),\n",
       " (155, 10),\n",
       " (156, 13),\n",
       " (157, 6),\n",
       " (158, 14),\n",
       " (159, 12),\n",
       " (160, 3),\n",
       " (161, 5),\n",
       " (162, 14),\n",
       " (163, 11),\n",
       " (164, 3),\n",
       " (165, 9),\n",
       " (166, 8),\n",
       " (167, 2),\n",
       " (168, 4),\n",
       " (169, 7),\n",
       " (170, 9),\n",
       " (171, 5),\n",
       " (172, 7),\n",
       " (173, 10),\n",
       " (174, 5),\n",
       " (175, 8),\n",
       " (176, 7),\n",
       " (177, 9),\n",
       " (178, 13),\n",
       " (179, 7),\n",
       " (180, 5),\n",
       " (181, 5),\n",
       " (182, 10),\n",
       " (183, 10),\n",
       " (184, 1),\n",
       " (185, 5),\n",
       " (186, 7),\n",
       " (187, 7),\n",
       " (188, 8),\n",
       " (189, 3),\n",
       " (190, 2),\n",
       " (191, 8),\n",
       " (192, 14),\n",
       " (193, 5),\n",
       " (194, 8),\n",
       " (195, 5),\n",
       " (196, 8),\n",
       " (197, 9),\n",
       " (198, 10),\n",
       " (199, 4),\n",
       " (200, 4),\n",
       " (201, 4),\n",
       " (202, 10),\n",
       " (203, 5),\n",
       " (204, 6),\n",
       " (205, 2),\n",
       " (206, 9),\n",
       " (207, 4),\n",
       " (208, 5),\n",
       " (209, 3),\n",
       " (210, 1),\n",
       " (211, 6),\n",
       " (212, 4),\n",
       " (213, 3),\n",
       " (214, 8),\n",
       " (215, 6),\n",
       " (216, 4),\n",
       " (217, 1),\n",
       " (218, 4),\n",
       " (219, 6),\n",
       " (220, 6),\n",
       " (221, 4),\n",
       " (222, 7),\n",
       " (223, 4),\n",
       " (224, 3),\n",
       " (225, 6),\n",
       " (226, 4),\n",
       " (227, 1),\n",
       " (228, 4),\n",
       " (229, 2),\n",
       " (230, 1),\n",
       " (231, 1),\n",
       " (232, 3),\n",
       " (233, 1),\n",
       " (234, 3),\n",
       " (235, 2),\n",
       " (236, 5),\n",
       " (237, 3),\n",
       " (238, 3),\n",
       " (239, 3),\n",
       " (240, 2),\n",
       " (241, 5),\n",
       " (242, 3),\n",
       " (243, 3),\n",
       " (245, 3),\n",
       " (246, 3),\n",
       " (247, 1),\n",
       " (248, 2),\n",
       " (249, 5),\n",
       " (250, 4),\n",
       " (251, 3),\n",
       " (252, 5),\n",
       " (253, 4),\n",
       " (254, 1),\n",
       " (255, 4),\n",
       " (257, 2),\n",
       " (258, 1),\n",
       " (259, 4),\n",
       " (260, 3),\n",
       " (261, 5),\n",
       " (262, 7),\n",
       " (263, 1),\n",
       " (264, 4),\n",
       " (265, 1),\n",
       " (267, 1),\n",
       " (268, 2),\n",
       " (269, 5),\n",
       " (270, 2),\n",
       " (271, 2),\n",
       " (272, 1),\n",
       " (273, 2),\n",
       " (274, 4),\n",
       " (275, 1),\n",
       " (276, 2),\n",
       " (277, 3),\n",
       " (278, 2),\n",
       " (280, 4),\n",
       " (281, 1),\n",
       " (282, 1),\n",
       " (284, 3),\n",
       " (285, 4),\n",
       " (286, 5),\n",
       " (287, 1),\n",
       " (288, 2),\n",
       " (289, 1),\n",
       " (290, 3),\n",
       " (291, 1),\n",
       " (293, 5),\n",
       " (294, 3),\n",
       " (295, 3),\n",
       " (296, 1),\n",
       " (297, 1),\n",
       " (298, 3),\n",
       " (299, 1),\n",
       " (300, 1),\n",
       " (301, 2),\n",
       " (302, 2),\n",
       " (304, 3),\n",
       " (305, 4),\n",
       " (306, 2),\n",
       " (307, 3),\n",
       " (309, 1),\n",
       " (310, 2),\n",
       " (311, 2),\n",
       " (312, 1),\n",
       " (313, 1),\n",
       " (314, 1),\n",
       " (315, 3),\n",
       " (316, 1),\n",
       " (317, 1),\n",
       " (318, 3),\n",
       " (319, 1),\n",
       " (320, 3),\n",
       " (321, 3),\n",
       " (322, 1),\n",
       " (323, 1),\n",
       " (324, 1),\n",
       " (325, 2),\n",
       " (326, 1),\n",
       " (327, 2),\n",
       " (328, 3),\n",
       " (329, 1),\n",
       " (330, 2),\n",
       " (331, 2),\n",
       " (332, 1),\n",
       " (335, 2),\n",
       " (337, 1),\n",
       " (338, 3),\n",
       " (339, 1),\n",
       " (340, 3),\n",
       " (343, 1),\n",
       " (345, 1),\n",
       " (347, 3),\n",
       " (348, 1),\n",
       " (349, 2),\n",
       " (351, 1),\n",
       " (353, 3),\n",
       " (354, 1),\n",
       " (355, 1),\n",
       " (356, 3),\n",
       " (357, 2),\n",
       " (358, 1),\n",
       " (359, 2),\n",
       " (360, 1),\n",
       " (361, 3),\n",
       " (362, 1),\n",
       " (363, 3),\n",
       " (364, 2),\n",
       " (365, 1),\n",
       " (366, 2),\n",
       " (368, 1),\n",
       " (369, 1),\n",
       " (371, 2),\n",
       " (372, 1),\n",
       " (373, 1),\n",
       " (375, 1),\n",
       " (378, 1),\n",
       " (380, 1),\n",
       " (381, 1),\n",
       " (383, 1),\n",
       " (385, 1),\n",
       " (387, 3),\n",
       " (391, 2),\n",
       " (392, 1),\n",
       " (393, 1),\n",
       " (394, 1),\n",
       " (395, 1),\n",
       " (396, 1),\n",
       " (398, 1),\n",
       " (399, 1),\n",
       " (403, 2),\n",
       " (404, 1),\n",
       " (406, 2),\n",
       " (407, 1),\n",
       " (411, 2),\n",
       " (414, 1),\n",
       " (415, 1),\n",
       " (416, 1),\n",
       " (417, 4),\n",
       " (418, 2),\n",
       " (419, 1),\n",
       " (420, 1),\n",
       " (421, 1),\n",
       " (422, 1),\n",
       " (424, 2),\n",
       " (425, 2),\n",
       " (428, 2),\n",
       " (429, 1),\n",
       " (430, 2),\n",
       " (432, 2),\n",
       " (433, 2),\n",
       " (435, 1),\n",
       " (436, 1),\n",
       " (440, 1),\n",
       " (441, 1),\n",
       " (444, 1),\n",
       " (446, 1),\n",
       " (449, 3),\n",
       " (452, 2),\n",
       " (456, 1),\n",
       " (460, 1),\n",
       " (468, 2),\n",
       " (470, 1),\n",
       " (471, 2),\n",
       " (472, 1),\n",
       " (474, 3),\n",
       " (475, 1),\n",
       " (476, 1),\n",
       " (483, 2),\n",
       " (484, 1),\n",
       " (486, 1),\n",
       " (489, 1),\n",
       " (497, 1),\n",
       " (500, 2),\n",
       " (503, 3),\n",
       " (510, 1),\n",
       " (514, 1),\n",
       " (523, 1),\n",
       " (524, 2),\n",
       " (525, 1),\n",
       " (532, 1),\n",
       " (548, 2),\n",
       " (551, 2),\n",
       " (552, 2),\n",
       " (559, 1),\n",
       " (560, 1),\n",
       " (562, 1),\n",
       " (564, 1),\n",
       " (570, 1),\n",
       " (571, 2),\n",
       " (574, 1),\n",
       " (575, 1),\n",
       " (577, 1),\n",
       " (581, 1),\n",
       " (583, 1),\n",
       " (591, 1),\n",
       " (594, 1),\n",
       " (603, 1),\n",
       " (626, 1),\n",
       " (637, 1),\n",
       " (638, 1),\n",
       " (641, 1),\n",
       " (645, 1),\n",
       " (647, 1),\n",
       " (662, 1),\n",
       " (663, 1),\n",
       " (669, 1),\n",
       " (673, 1),\n",
       " (676, 1),\n",
       " (682, 2),\n",
       " (684, 1),\n",
       " (688, 1),\n",
       " (689, 1),\n",
       " (699, 1),\n",
       " (706, 1),\n",
       " (712, 1),\n",
       " (713, 2),\n",
       " (729, 1),\n",
       " (732, 1),\n",
       " (734, 1),\n",
       " (742, 1),\n",
       " (744, 1),\n",
       " (745, 1),\n",
       " (763, 1),\n",
       " (767, 1),\n",
       " (770, 1),\n",
       " (775, 1),\n",
       " (780, 1),\n",
       " (795, 1),\n",
       " (804, 1),\n",
       " (812, 2),\n",
       " (823, 1),\n",
       " (829, 1),\n",
       " (833, 1),\n",
       " (835, 1),\n",
       " (868, 1),\n",
       " (881, 1),\n",
       " (884, 1),\n",
       " (886, 1),\n",
       " (889, 1),\n",
       " (901, 1),\n",
       " (908, 1),\n",
       " (911, 1),\n",
       " (931, 1),\n",
       " (937, 1),\n",
       " (940, 1),\n",
       " (954, 1),\n",
       " (968, 1),\n",
       " (1060, 1),\n",
       " (1075, 1),\n",
       " (1110, 1),\n",
       " (1112, 1),\n",
       " (1179, 1),\n",
       " (1189, 1),\n",
       " (1205, 1),\n",
       " (1214, 1),\n",
       " (1219, 1),\n",
       " (1334, 1),\n",
       " (1338, 1),\n",
       " (1355, 1),\n",
       " (1489, 1),\n",
       " (1506, 1),\n",
       " (1524, 1),\n",
       " (1616, 1),\n",
       " (1721, 1),\n",
       " (1763, 1),\n",
       " (1770, 1),\n",
       " (1813, 1),\n",
       " (1837, 1),\n",
       " (2052, 1),\n",
       " (2344, 1),\n",
       " (6087, 1)]"
      ]
     },
     "execution_count": 115,
     "metadata": {},
     "output_type": "execute_result"
    }
   ],
   "source": [
    "y = np.bincount(a)\n",
    "ii = np.nonzero(y)[0]\n",
    "zip(ii,y[ii]) "
   ]
  },
  {
   "cell_type": "code",
   "execution_count": 107,
   "metadata": {
    "scrolled": true
   },
   "outputs": [
    {
     "data": {
      "image/png": "[encoded data removed]",
      "text/plain": [
       "<matplotlib.figure.Figure at 0x1198fa550>"
      ]
     },
     "metadata": {},
     "output_type": "display_data"
    }
   ],
   "source": [
    "plot(avg_rating,num_fans,\"Avg Rating\",\"Number of fans\")"
   ]
  },
  {
   "cell_type": "markdown",
   "metadata": {},
   "source": [
    "### This behavior is because of an outlier, which has more 6000 fans thats why everything is so scaled down\n",
    "\n",
    "Removing this outlier"
   ]
  },
  {
   "cell_type": "code",
   "execution_count": 112,
   "metadata": {},
   "outputs": [
    {
     "data": {
      "image/png": "[encoded data removed]",
      "text/plain": [
       "<matplotlib.figure.Figure at 0x1197f6890>"
      ]
     },
     "metadata": {},
     "output_type": "display_data"
    }
   ],
   "source": [
    "f = open('user.json','r')\n",
    "num_fans = list()\n",
    "avg_rating = list()\n",
    "for line in f:\n",
    "    jsonObject = json.loads(line)\n",
    "    fans = jsonObject.get(\"fans\")\n",
    "    avg_star = jsonObject.get('average_stars')\n",
    "    if fans<1000:\n",
    "        num_fans.append(fans)\n",
    "        avg_rating.append(avg_star)\n",
    "f.close()\n",
    "plot(avg_rating,num_fans,\"Avg Rating\",\"Number of fans\")"
   ]
  },
  {
   "cell_type": "markdown",
   "metadata": {},
   "source": [
    "## We can see that users having more fans tend to give higher ratings "
   ]
  },
  {
   "cell_type": "code",
   "execution_count": 97,
   "metadata": {
    "collapsed": true
   },
   "outputs": [],
   "source": [
    "df = pd.DataFrame(np.array(num_fans), columns = {\"fans\"})\n",
    "df[\"average_stars\" ] = np.array(avg_rating)"
   ]
  },
  {
   "cell_type": "code",
   "execution_count": 98,
   "metadata": {
    "collapsed": true
   },
   "outputs": [
    {
     "data": {
      "image/png": "[encoded data removed]",
      "text/plain": [
       "<matplotlib.figure.Figure at 0x12e722850>"
      ]
     },
     "metadata": {},
     "output_type": "display_data"
    }
   ],
   "source": [
    "import seaborn as sns\n",
    "plt.figure(figsize=(15,10))\n",
    "plt.title('Box Plot for Category : propertylandusetypeid VS yearbuilt', {'fontsize':18})\n",
    "plt.xlabel('Type of land use the property is zoned for', {'fontsize':14})\n",
    "plt.ylabel('Year in which house was built', {'fontsize':14})\n",
    "plt.annotate('This graph shows a categorical box plot for the years, properties of a type were built in.\\n The first quartile, denoted by Q1 while the third quartile, denoted by Q3.\\n These contain the values of middle 50% of the data, i.e. 25% values are above Q1 and 25% values are below Q3.\\n As we can see, more than half of the TownHouse(category 264) and ClusterHouse(category 265) were built in the late 90s of the 19th century.\\n While Duplex(category 246) and Triplex(category 247) and Quadruplex(category 248) are old and were built around 1950s', xy=(0, -0.23), size=14, xycoords='axes fraction', color='grey')\n",
    "sns.boxplot(x=\"fans\", y=\"average_stars\",  data=df)\n",
    "plt.show()"
   ]
  }
 ],
 "metadata": {
  "kernelspec": {
   "display_name": "Python 2",
   "language": "python",
   "name": "python2"
  },
  "language_info": {
   "codemirror_mode": {
    "name": "ipython",
    "version": 2
   },
   "file_extension": ".py",
   "mimetype": "text/x-python",
   "name": "python",
   "nbconvert_exporter": "python",
   "pygments_lexer": "ipython2",
   "version": "2.7.13"
  }
 },
 "nbformat": 4,
 "nbformat_minor": 2
}
