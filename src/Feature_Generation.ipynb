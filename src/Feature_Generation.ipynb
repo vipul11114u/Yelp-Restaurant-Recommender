{
 "cells": [
  {
   "cell_type": "code",
   "execution_count": 1,
   "metadata": {
    "collapsed": true
   },
   "outputs": [],
   "source": [
    "import numpy as np\n",
    "import pandas as pd\n",
    "import json \n",
    "import matplotlib as plt\n",
    "%matplotlib inline\n",
    "import pickle\n",
    "import operator\n",
    "from math import sin, cos, sqrt, atan2, radians"
   ]
  },
  {
   "cell_type": "markdown",
   "metadata": {},
   "source": [
    "### Loading all of the data structures from pickle files"
   ]
  },
  {
   "cell_type": "code",
   "execution_count": 10,
   "metadata": {
    "collapsed": true
   },
   "outputs": [],
   "source": [
    "with open('pickle/userStateAllRestaurantdict.pickle', 'rb') as handle:\n",
    "    userStateAllRestaurantdict = pickle.load(handle)\n",
    "    \n",
    "with open('pickle/userRestaurantDict.pickle', 'rb') as handle:\n",
    "    userRestaurantDict = pickle.load(handle)"
   ]
  },
  {
   "cell_type": "markdown",
   "metadata": {},
   "source": [
    "### Dict\n",
    "\n",
    "> **userStateAllRestaurantdict**     \n",
    "* key : (user_id , state)\n",
    "* value: [list of all restaurants in that state]\n",
    "\n",
    "\n",
    "> **userRestaurantDict**\n",
    "* key : user_id\n",
    "* value : [list of restaurants visited by that user]"
   ]
  },
  {
   "cell_type": "code",
   "execution_count": 33,
   "metadata": {
    "collapsed": true
   },
   "outputs": [],
   "source": [
    "# Function to calculate distance between two location\n",
    "def getDistance(lt1, lg1, lt2, lg2):\n",
    "    # approximate radius of earth in km\n",
    "    R = 6373.0\n",
    "\n",
    "    lat1 = radians(lt1)\n",
    "    lon1 = radians(lg1)\n",
    "    lat2 = radians(lt2)\n",
    "    lon2 = radians(lg2)\n",
    "\n",
    "    dlon = lon2 - lon1\n",
    "    dlat = lat2 - lat1\n",
    "\n",
    "    a = sin(dlat / 2)**2 + cos(lat1) * cos(lat2) * sin(dlon / 2)**2\n",
    "    c = 2 * atan2(sqrt(a), sqrt(1 - a))\n",
    "\n",
    "    distance = R * c\n",
    "    return distance"
   ]
  },
  {
   "cell_type": "code",
   "execution_count": 12,
   "metadata": {
    "collapsed": true
   },
   "outputs": [],
   "source": [
    "# Function to get restaurants form a state with in 'radious' from given location.\n",
    "def getNearByRestaurants( lat, lon, radious, state):\n",
    "    restObjectList = list()\n",
    "    f = open('restaurant.json', 'r')\n",
    "    for line in f:\n",
    "        restObject = json.loads(line)\n",
    "        if restObject.get(\"state\")==state and getDistance(lat,lon,restObject.get('latitude'), restObject.get('longitude')) <= radious:\n",
    "            restObjectList.append(restObject)\n",
    "    f.close()\n",
    "    return restObjectList"
   ]
  },
  {
   "cell_type": "code",
   "execution_count": 13,
   "metadata": {
    "collapsed": true
   },
   "outputs": [],
   "source": [
    "def getNotVisitedSet(userId,state):\n",
    "    restaurants = set(userStateAllRestaurantdict.get((user,state)))\n",
    "    visited = set(userRestaurantDict.get(user))\n",
    "    notVisited = restaurants.difference(visited)\n",
    "    return notVisited"
   ]
  },
  {
   "cell_type": "code",
   "execution_count": 14,
   "metadata": {
    "collapsed": true
   },
   "outputs": [],
   "source": [
    "states = ['AZ','BW','EDH','IL','NC','NV','OH','ON','PA','QC','WI']"
   ]
  },
  {
   "cell_type": "code",
   "execution_count": 15,
   "metadata": {
    "collapsed": true
   },
   "outputs": [],
   "source": [
    "### Method to get all visited restaurants for a user for given state\n",
    "\n",
    "def getVisitedFromState(user_id, state):\n",
    "    all_rest = set(userStateAllRestaurantdict.get((user_id, state)))\n",
    "    all_visited_rest = set(userRestaurantDict.get(user_id))\n",
    "    return list(set.intersection(all_rest, all_visited_rest))"
   ]
  },
  {
   "cell_type": "markdown",
   "metadata": {},
   "source": [
    "### Building a hashmap of [restaurant_id, (lat,long)]"
   ]
  },
  {
   "cell_type": "code",
   "execution_count": 16,
   "metadata": {
    "collapsed": true
   },
   "outputs": [],
   "source": [
    "restaurantToLocation = dict()\n",
    "f = open('restaurant.json','r')\n",
    "for line in f:\n",
    "    jsonObject = json.loads(line)\n",
    "    restaurantToLocation[jsonObject.get('business_id')] = (jsonObject.get('latitude'), jsonObject.get('longitude'))\n",
    "f.close()"
   ]
  },
  {
   "cell_type": "markdown",
   "metadata": {},
   "source": [
    "### Now calculate location for all (user_id , state) key "
   ]
  },
  {
   "cell_type": "code",
   "execution_count": 9,
   "metadata": {
    "collapsed": true
   },
   "outputs": [],
   "source": [
    "# first get all visited restaurant in a state from (user_id, state)\n",
    "#  merge restaurant into one location if they are closer than threshold\n",
    "#  return the location of maximum number of time visited restaurant"
   ]
  },
  {
   "cell_type": "code",
   "execution_count": 17,
   "metadata": {
    "collapsed": true
   },
   "outputs": [],
   "source": [
    "# users approx location \n",
    "# (user_id, state)--> (lat, long)\n",
    "def getUserLocation(user_id, state):\n",
    "    circle = 10 #threshold to merge at same location\n",
    "    visitedList = getVisitedFromState(user_id, state)\n",
    "    restaurantLocationToCount = dict() #hashmap of type (restaurant_id, (lat, long))----> count\n",
    "    for rest_id in visitedList:\n",
    "        lat, lon = restaurantToLocation.get(rest_id)\n",
    "        if len(restaurantLocationToCount) == 0:\n",
    "            restaurantLocationToCount[(rest_id, (lat, lon) )] = 1\n",
    "        else:\n",
    "            merged = False\n",
    "            for key in restaurantLocationToCount.keys():\n",
    "                curr_id = key[0]\n",
    "                curr_lat = key[1][0]\n",
    "                curr_lon= key[1][1]\n",
    "                if getDistance(lat, lon, curr_lat, curr_lon) <= circle:\n",
    "                    restaurantLocationToCount[key] = restaurantLocationToCount.get(key) + 1\n",
    "                    merged = True\n",
    "                    break;\n",
    "            if merged == False:\n",
    "                restaurantLocationToCount[(rest_id, (lat, lon))] = 1\n",
    "    maxTuple = max(restaurantLocationToCount, key=restaurantLocationToCount.get) #getting key with max value\n",
    "    return (maxTuple[1][0],maxTuple[1][1])"
   ]
  },
  {
   "cell_type": "code",
   "execution_count": 25,
   "metadata": {},
   "outputs": [
    {
     "name": "stdout",
     "output_type": "stream",
     "text": [
      "0.18404750552\n"
     ]
    }
   ],
   "source": [
    "print getDistance(43.6482347, -79.3795255, 43.6486362, -79.3817439)"
   ]
  },
  {
   "cell_type": "code",
   "execution_count": 12,
   "metadata": {
    "scrolled": true
   },
   "outputs": [
    {
     "name": "stdout",
     "output_type": "stream",
     "text": [
      "(u'VLPzREDi_2R0up9dsUct4g', u'NV') ----> 11356\n",
      "(u'ChTuYk2vSUSQP2H0mLfpEw', u'PA') ----> 4977\n",
      "(u'eTxVsgUSujTixeZzeR3lJA', u'PA') ----> 4977\n",
      "(u'qByqJ5q-lo49ohmp9ihsQg', u'IL') ----> 883\n",
      "(u'zN0yzKhNWULR97tY1nWa8Q', u'WI') ----> 2146\n",
      "(u'z9JX-It3L3bAkAcjcMsp5A', u'NV') ----> 11356\n",
      "(u'lEjhjCk3pU64NxgG9YwDMA', u'NV') ----> 11356\n",
      "(u'JzFUW28qVKJFE9hF8V3MCw', u'NV') ----> 11356\n",
      "(u'Tk2D_t3PregIambxbil5oA', u'AZ') ----> 16056\n",
      "(u'4vSwpL6XSvOaJWPT8nyYQg', u'NV') ----> 11356\n",
      "(u'w6O5aD4F44puF9yS3QBOvQ', u'ON') ----> 17318\n",
      "(u'm8M1HCzUAGyE7C1T8951Lw', u'AZ') ----> 16056\n",
      "(u'DhiUUkjSeVdTL8WalNLg6Q', u'ON') ----> 17318\n",
      "(u'RTi-Sovy8Tm7PJB735m_0w', u'ON') ----> 17318\n",
      "(u'uPdQLnVf0wDwNW4ScHnA2Q', u'QC') ----> 5970\n",
      "(u'TF9eVTIQm--1VIQcf9CU2w', u'NV') ----> 11356\n"
     ]
    }
   ],
   "source": [
    "i = 0\n",
    "for key in userStateAllRestaurantdict.keys():\n",
    "    print key,\"---->\",len(userStateAllRestaurantdict.get(key))\n",
    "    i += 1\n",
    "    if i>15:\n",
    "        break"
   ]
  },
  {
   "cell_type": "code",
   "execution_count": 13,
   "metadata": {},
   "outputs": [
    {
     "name": "stdout",
     "output_type": "stream",
     "text": [
      "kiQv0q-oOVGEOPa_S_at6w ----> 4\n",
      "an8MLCN3dYT8J6eSaszWlw ----> 1\n",
      "TSFDRxY6Fvb8o9ylq-9Jzg ----> 2\n",
      "Bu1-Nm7zPbWRf14RSCIi6Q ----> 1\n",
      "yff3Loo9L9gcEDDRxzruTQ ----> 1\n",
      "509Lnm5epqje7Y5sVk2wMA ----> 1\n",
      "UB0bwz4k6H-viCSPxl0Y7w ----> 1\n",
      "jYl1z1AtPuHsrBr8_Twulw ----> 1\n",
      "LRE39Mt3_FYh1rdlGMvuRg ----> 1\n",
      "nKYEwQj3ZN9KnISsNyVyTQ ----> 3\n",
      "BI2D65VWzPWKz4NerdihLg ----> 1\n",
      "_n9-w5eZJTabiIjvIWkmVQ ----> 2\n",
      "w2ntisggCzwnu_EuCIZz2g ----> 3\n",
      "LHSt755HRUHyPY8dn_IdBg ----> 1\n",
      "j-Goq6j-wqg5rx4BBf8N2g ----> 4\n",
      "sKi3lekXQFUIOmMKeamcNg ----> 1\n"
     ]
    }
   ],
   "source": [
    "i = 0\n",
    "for key in userRestaurantDict.keys():\n",
    "    print key,\"---->\",len(userRestaurantDict.get(key))\n",
    "    i += 1\n",
    "    if i>15:\n",
    "        break"
   ]
  },
  {
   "cell_type": "code",
   "execution_count": 14,
   "metadata": {},
   "outputs": [
    {
     "name": "stdout",
     "output_type": "stream",
     "text": [
      "{\"business_id\": \"mLwM-h2YhXl2NCgdS84_Bw\", \"name\": \"South Florida Style Chicken & Ribs\", \"neighborhood\": \"Eastland\", \"address\": \"2824 Milton Rd\", \"city\": \"Charlotte\", \"state\": \"NC\", \"postal_code\": \"28215\", \"latitude\": 35.23687, \"longitude\": -80.7419759, \"stars\": 4.5, \"review_count\": 4, \"is_open\": 0, \"attributes\": {\"GoodForMeal\": {\"dessert\": false, \"latenight\": false, \"lunch\": false, \"dinner\": false, \"breakfast\": false, \"brunch\": false}, \"HasTV\": false, \"RestaurantsGoodForGroups\": true, \"NoiseLevel\": \"average\", \"RestaurantsAttire\": \"casual\", \"RestaurantsReservations\": false, \"OutdoorSeating\": false, \"BusinessAcceptsCreditCards\": false, \"RestaurantsPriceRange2\": 2, \"RestaurantsDelivery\": true, \"Ambience\": {\"romantic\": false, \"intimate\": false, \"classy\": false, \"hipster\": false, \"divey\": false, \"touristy\": false, \"trendy\": false, \"upscale\": false, \"casual\": false}, \"RestaurantsTakeOut\": true, \"GoodForKids\": true}, \"categories\": [\"Food\", \"Soul Food\", \"Convenience Stores\", \"Restaurants\"], \"hours\": {\"Monday\": \"10:00-22:00\", \"Tuesday\": \"10:00-22:00\", \"Friday\": \"10:00-22:00\", \"Wednesday\": \"10:00-22:00\", \"Thursday\": \"10:00-22:00\", \"Sunday\": \"10:00-22:00\", \"Saturday\": \"10:00-22:00\"}}\n",
      "\n"
     ]
    }
   ],
   "source": [
    "f = open('restaurant.json','r')\n",
    "print f.readline()\n",
    "f.close()"
   ]
  },
  {
   "cell_type": "markdown",
   "metadata": {},
   "source": [
    "### User Data Frame"
   ]
  },
  {
   "cell_type": "code",
   "execution_count": 15,
   "metadata": {
    "collapsed": true
   },
   "outputs": [],
   "source": [
    "restDf = pd.read_csv('resFeatureDF.csv')"
   ]
  },
  {
   "cell_type": "code",
   "execution_count": 16,
   "metadata": {},
   "outputs": [
    {
     "data": {
      "text/html": [
       "<div>\n",
       "<style>\n",
       "    .dataframe thead tr:only-child th {\n",
       "        text-align: right;\n",
       "    }\n",
       "\n",
       "    .dataframe thead th {\n",
       "        text-align: left;\n",
       "    }\n",
       "\n",
       "    .dataframe tbody tr th {\n",
       "        vertical-align: top;\n",
       "    }\n",
       "</style>\n",
       "<table border=\"1\" class=\"dataframe\">\n",
       "  <thead>\n",
       "    <tr style=\"text-align: right;\">\n",
       "      <th></th>\n",
       "      <th>Unnamed: 0</th>\n",
       "      <th>restaurantscounterservice</th>\n",
       "      <th>lunch</th>\n",
       "      <th>cuba</th>\n",
       "      <th>wednesday</th>\n",
       "      <th>street</th>\n",
       "      <th>haiti</th>\n",
       "      <th>coloring</th>\n",
       "      <th>asian</th>\n",
       "      <th>cambodia</th>\n",
       "      <th>...</th>\n",
       "      <th>valet</th>\n",
       "      <th>poland</th>\n",
       "      <th>vietnam</th>\n",
       "      <th>caters</th>\n",
       "      <th>wifi</th>\n",
       "      <th>upscale</th>\n",
       "      <th>karaoke</th>\n",
       "      <th>jukebox</th>\n",
       "      <th>casual</th>\n",
       "      <th>peru</th>\n",
       "    </tr>\n",
       "  </thead>\n",
       "  <tbody>\n",
       "    <tr>\n",
       "      <th>0</th>\n",
       "      <td>wJ-961JWdVhJXhWQf4Jlcw</td>\n",
       "      <td>0</td>\n",
       "      <td>0</td>\n",
       "      <td>0</td>\n",
       "      <td>0</td>\n",
       "      <td>0</td>\n",
       "      <td>0</td>\n",
       "      <td>0</td>\n",
       "      <td>0</td>\n",
       "      <td>0</td>\n",
       "      <td>...</td>\n",
       "      <td>0</td>\n",
       "      <td>0</td>\n",
       "      <td>0</td>\n",
       "      <td>0</td>\n",
       "      <td>1</td>\n",
       "      <td>0</td>\n",
       "      <td>0</td>\n",
       "      <td>0</td>\n",
       "      <td>0</td>\n",
       "      <td>0</td>\n",
       "    </tr>\n",
       "    <tr>\n",
       "      <th>1</th>\n",
       "      <td>bPDfUbhr5Jab_fPTNTn9oQ</td>\n",
       "      <td>0</td>\n",
       "      <td>0</td>\n",
       "      <td>0</td>\n",
       "      <td>0</td>\n",
       "      <td>1</td>\n",
       "      <td>0</td>\n",
       "      <td>0</td>\n",
       "      <td>0</td>\n",
       "      <td>0</td>\n",
       "      <td>...</td>\n",
       "      <td>0</td>\n",
       "      <td>0</td>\n",
       "      <td>0</td>\n",
       "      <td>0</td>\n",
       "      <td>1</td>\n",
       "      <td>0</td>\n",
       "      <td>0</td>\n",
       "      <td>0</td>\n",
       "      <td>0</td>\n",
       "      <td>0</td>\n",
       "    </tr>\n",
       "    <tr>\n",
       "      <th>2</th>\n",
       "      <td>9f68hfHK6gNyHWmt9guiJw</td>\n",
       "      <td>0</td>\n",
       "      <td>0</td>\n",
       "      <td>0</td>\n",
       "      <td>0</td>\n",
       "      <td>0</td>\n",
       "      <td>0</td>\n",
       "      <td>0</td>\n",
       "      <td>0</td>\n",
       "      <td>0</td>\n",
       "      <td>...</td>\n",
       "      <td>0</td>\n",
       "      <td>0</td>\n",
       "      <td>0</td>\n",
       "      <td>1</td>\n",
       "      <td>1</td>\n",
       "      <td>0</td>\n",
       "      <td>0</td>\n",
       "      <td>0</td>\n",
       "      <td>0</td>\n",
       "      <td>0</td>\n",
       "    </tr>\n",
       "    <tr>\n",
       "      <th>3</th>\n",
       "      <td>hXWUEd7I7tmbXdQsfYY5tA</td>\n",
       "      <td>0</td>\n",
       "      <td>0</td>\n",
       "      <td>0</td>\n",
       "      <td>0</td>\n",
       "      <td>0</td>\n",
       "      <td>0</td>\n",
       "      <td>0</td>\n",
       "      <td>0</td>\n",
       "      <td>0</td>\n",
       "      <td>...</td>\n",
       "      <td>0</td>\n",
       "      <td>0</td>\n",
       "      <td>0</td>\n",
       "      <td>0</td>\n",
       "      <td>0</td>\n",
       "      <td>0</td>\n",
       "      <td>0</td>\n",
       "      <td>0</td>\n",
       "      <td>0</td>\n",
       "      <td>0</td>\n",
       "    </tr>\n",
       "    <tr>\n",
       "      <th>4</th>\n",
       "      <td>Xe0x73pcUQtVzowF1RC0UA</td>\n",
       "      <td>0</td>\n",
       "      <td>0</td>\n",
       "      <td>0</td>\n",
       "      <td>0</td>\n",
       "      <td>0</td>\n",
       "      <td>0</td>\n",
       "      <td>0</td>\n",
       "      <td>0</td>\n",
       "      <td>0</td>\n",
       "      <td>...</td>\n",
       "      <td>0</td>\n",
       "      <td>0</td>\n",
       "      <td>0</td>\n",
       "      <td>0</td>\n",
       "      <td>0</td>\n",
       "      <td>0</td>\n",
       "      <td>0</td>\n",
       "      <td>0</td>\n",
       "      <td>0</td>\n",
       "      <td>0</td>\n",
       "    </tr>\n",
       "  </tbody>\n",
       "</table>\n",
       "<p>5 rows × 130 columns</p>\n",
       "</div>"
      ],
      "text/plain": [
       "               Unnamed: 0  restaurantscounterservice  lunch  cuba  wednesday  \\\n",
       "0  wJ-961JWdVhJXhWQf4Jlcw                          0      0     0          0   \n",
       "1  bPDfUbhr5Jab_fPTNTn9oQ                          0      0     0          0   \n",
       "2  9f68hfHK6gNyHWmt9guiJw                          0      0     0          0   \n",
       "3  hXWUEd7I7tmbXdQsfYY5tA                          0      0     0          0   \n",
       "4  Xe0x73pcUQtVzowF1RC0UA                          0      0     0          0   \n",
       "\n",
       "   street  haiti  coloring  asian  cambodia  ...   valet  poland  vietnam  \\\n",
       "0       0      0         0      0         0  ...       0       0        0   \n",
       "1       1      0         0      0         0  ...       0       0        0   \n",
       "2       0      0         0      0         0  ...       0       0        0   \n",
       "3       0      0         0      0         0  ...       0       0        0   \n",
       "4       0      0         0      0         0  ...       0       0        0   \n",
       "\n",
       "   caters  wifi  upscale  karaoke  jukebox  casual  peru  \n",
       "0       0     1        0        0        0       0     0  \n",
       "1       0     1        0        0        0       0     0  \n",
       "2       1     1        0        0        0       0     0  \n",
       "3       0     0        0        0        0       0     0  \n",
       "4       0     0        0        0        0       0     0  \n",
       "\n",
       "[5 rows x 130 columns]"
      ]
     },
     "execution_count": 16,
     "metadata": {},
     "output_type": "execute_result"
    }
   ],
   "source": [
    "restDf.head()"
   ]
  },
  {
   "cell_type": "code",
   "execution_count": 17,
   "metadata": {},
   "outputs": [
    {
     "data": {
      "text/plain": [
       "Unnamed: 0                   75911\n",
       "restaurantscounterservice      246\n",
       "lunch                        17831\n",
       "cuba                            66\n",
       "wednesday                     1077\n",
       "street                       11727\n",
       "haiti                            9\n",
       "coloring                         7\n",
       "asian                          129\n",
       "cambodia                        33\n",
       "ireland                        209\n",
       "acceptsinsurance                52\n",
       "gluten-free                     24\n",
       "thailand                      1291\n",
       "restaurantsgoodforgroups     42734\n",
       "venezuela                       20\n",
       "garage                        3093\n",
       "canada                        1357\n",
       "latin                          473\n",
       "byob                            48\n",
       "caribbean                      509\n",
       "coatcheck                      860\n",
       "lot                          22565\n",
       "drivethru                     2352\n",
       "sunday                        1181\n",
       "puertorico                      19\n",
       "america                       2648\n",
       "saturday                      4250\n",
       "portugal                       225\n",
       "czech                            6\n",
       "                             ...  \n",
       "hungary                         27\n",
       "restaurantstakeout           49278\n",
       "france                         231\n",
       "africa                         128\n",
       "halal                            6\n",
       "ethiopia                        73\n",
       "dairy-free                      18\n",
       "straightperms                    3\n",
       "honduras                         3\n",
       "breakfast                     3726\n",
       "england                        603\n",
       "uzbekistan                       3\n",
       "nepal                           47\n",
       "switzerland                     47\n",
       "trendy                        1930\n",
       "businessacceptsbitcoin          66\n",
       "restaurantstableservice      25637\n",
       "dessert                      30890\n",
       "byobcorkage                   1400\n",
       "monday                         650\n",
       "valet                         1269\n",
       "poland                         599\n",
       "vietnam                        928\n",
       "caters                       17307\n",
       "wifi                         42439\n",
       "upscale                        389\n",
       "karaoke                        233\n",
       "jukebox                       1100\n",
       "casual                       18830\n",
       "peru                            92\n",
       "Length: 130, dtype: int64"
      ]
     },
     "execution_count": 17,
     "metadata": {},
     "output_type": "execute_result"
    }
   ],
   "source": [
    "(restDf != 0).sum()"
   ]
  },
  {
   "cell_type": "code",
   "execution_count": 18,
   "metadata": {
    "collapsed": true
   },
   "outputs": [],
   "source": [
    "features = restDf.columns"
   ]
  },
  {
   "cell_type": "code",
   "execution_count": 19,
   "metadata": {},
   "outputs": [
    {
     "name": "stdout",
     "output_type": "stream",
     "text": [
      "Unnamed: 0 ---> 75911\n",
      "restaurantscounterservice ---> 246\n",
      "lunch ---> 17831\n",
      "cuba ---> 66\n",
      "wednesday ---> 1077\n",
      "street ---> 11727\n",
      "haiti ---> 9\n",
      "coloring ---> 7\n",
      "asian ---> 129\n",
      "cambodia ---> 33\n",
      "ireland ---> 209\n",
      "acceptsinsurance ---> 52\n",
      "gluten-free ---> 24\n",
      "thailand ---> 1291\n",
      "restaurantsgoodforgroups ---> 42734\n",
      "venezuela ---> 20\n",
      "garage ---> 3093\n",
      "canada ---> 1357\n",
      "latin ---> 473\n",
      "byob ---> 48\n",
      "caribbean ---> 509\n",
      "coatcheck ---> 860\n",
      "lot ---> 22565\n",
      "drivethru ---> 2352\n",
      "sunday ---> 1181\n",
      "puertorico ---> 19\n",
      "america ---> 2648\n",
      "saturday ---> 4250\n",
      "portugal ---> 225\n",
      "czech ---> 6\n",
      "taiwan ---> 235\n",
      "germany ---> 652\n",
      "belgium ---> 45\n",
      "dj ---> 1390\n",
      "drinks ---> 14315\n",
      "no_music ---> 0\n",
      "soy-free ---> 6\n",
      "restaurantspricerange2 ---> 66128\n",
      "vegan ---> 121\n",
      "vegetarian ---> 72\n",
      "validated ---> 297\n",
      "hawai ---> 249\n",
      "divey ---> 1085\n",
      "agesallowed ---> 261\n",
      "bar ---> 17998\n",
      "kosher ---> 4\n",
      "hipster ---> 952\n",
      "open24hours ---> 28\n",
      "perms ---> 4\n",
      "extensions ---> 6\n",
      "restaurantsdelivery ---> 10880\n",
      "mexico ---> 4042\n",
      "greece ---> 956\n",
      "curly ---> 5\n",
      "goodfordancing ---> 1725\n",
      "corkage ---> 140\n",
      "alcohol ---> 43594\n",
      "spain ---> 795\n",
      "happyhour ---> 5761\n",
      "intimate ---> 567\n",
      "scandinavian ---> 13\n",
      "live ---> 1190\n",
      "businessacceptscreditcards ---> 61629\n",
      "background_music ---> 1784\n",
      "dinner ---> 15304\n",
      "hastv ---> 22330\n",
      "goodforkids ---> 38752\n",
      "colombia ---> 37\n",
      "china ---> 3960\n",
      "smoking ---> 7111\n",
      "ukraine ---> 17\n",
      "korea ---> 697\n",
      "restaurantsattire ---> 44801\n",
      "byappointmentonly ---> 528\n",
      "video ---> 190\n",
      "india ---> 1309\n",
      "kids ---> 5\n",
      "friday ---> 4160\n",
      "noiselevel ---> 40114\n",
      "classy ---> 899\n",
      "middleeast ---> 2344\n",
      "res ---> 74347\n",
      "tuesday ---> 633\n",
      "bikeparking ---> 37092\n",
      "thursday ---> 2377\n",
      "malaysia ---> 61\n",
      "pakistan ---> 349\n",
      "brunch ---> 3552\n",
      "russia ---> 3\n",
      "laos ---> 14\n",
      "africanamerican ---> 3\n",
      "outdoorseating ---> 20448\n",
      "restaurantsreservations ---> 18498\n",
      "latenight ---> 2478\n",
      "wheelchairaccessible ---> 24744\n",
      "touristy ---> 211\n",
      "italy ---> 4527\n",
      "romantic ---> 518\n",
      "dogsallowed ---> 2050\n",
      "japan ---> 2900\n",
      "hungary ---> 27\n",
      "restaurantstakeout ---> 49278\n",
      "france ---> 231\n",
      "africa ---> 128\n",
      "halal ---> 6\n",
      "ethiopia ---> 73\n",
      "dairy-free ---> 18\n",
      "straightperms ---> 3\n",
      "honduras ---> 3\n",
      "breakfast ---> 3726\n",
      "england ---> 603\n",
      "uzbekistan ---> 3\n",
      "nepal ---> 47\n",
      "switzerland ---> 47\n",
      "trendy ---> 1930\n",
      "businessacceptsbitcoin ---> 66\n",
      "restaurantstableservice ---> 25637\n",
      "dessert ---> 30890\n",
      "byobcorkage ---> 1400\n",
      "monday ---> 650\n",
      "valet ---> 1269\n",
      "poland ---> 599\n",
      "vietnam ---> 928\n",
      "caters ---> 17307\n",
      "wifi ---> 42439\n",
      "upscale ---> 389\n",
      "karaoke ---> 233\n",
      "jukebox ---> 1100\n",
      "casual ---> 18830\n",
      "peru ---> 92\n"
     ]
    }
   ],
   "source": [
    "for feature in features:\n",
    "    print feature,\"--->\", ( restDf[feature] != 0 ).sum()"
   ]
  },
  {
   "cell_type": "code",
   "execution_count": 20,
   "metadata": {
    "collapsed": true
   },
   "outputs": [],
   "source": [
    "drop_feature_list = ['coloring','honduras','gluten-free','no_music','soy-free','kosher','perms','extensions',\n",
    "                    'curly','russia','byob','kids','africanamerican','halal','uzbekistan','dairy-free','straightperms']\n"
   ]
  },
  {
   "cell_type": "code",
   "execution_count": 21,
   "metadata": {
    "collapsed": true
   },
   "outputs": [],
   "source": [
    "restDf = restDf.drop(drop_feature_list, axis = 1)"
   ]
  },
  {
   "cell_type": "code",
   "execution_count": 22,
   "metadata": {},
   "outputs": [
    {
     "data": {
      "text/plain": [
       "(75911, 113)"
      ]
     },
     "execution_count": 22,
     "metadata": {},
     "output_type": "execute_result"
    }
   ],
   "source": [
    "restDf.shape"
   ]
  },
  {
   "cell_type": "code",
   "execution_count": 23,
   "metadata": {
    "collapsed": true
   },
   "outputs": [],
   "source": [
    "features = restDf.columns"
   ]
  },
  {
   "cell_type": "code",
   "execution_count": 24,
   "metadata": {},
   "outputs": [
    {
     "name": "stdout",
     "output_type": "stream",
     "text": [
      "Unnamed: 0 ---> 75911\n",
      "restaurantscounterservice ---> 246\n",
      "lunch ---> 17831\n",
      "cuba ---> 66\n",
      "wednesday ---> 1077\n",
      "street ---> 11727\n",
      "haiti ---> 9\n",
      "asian ---> 129\n",
      "cambodia ---> 33\n",
      "ireland ---> 209\n",
      "acceptsinsurance ---> 52\n",
      "thailand ---> 1291\n",
      "restaurantsgoodforgroups ---> 42734\n",
      "venezuela ---> 20\n",
      "garage ---> 3093\n",
      "canada ---> 1357\n",
      "latin ---> 473\n",
      "caribbean ---> 509\n",
      "coatcheck ---> 860\n",
      "lot ---> 22565\n",
      "drivethru ---> 2352\n",
      "sunday ---> 1181\n",
      "puertorico ---> 19\n",
      "america ---> 2648\n",
      "saturday ---> 4250\n",
      "portugal ---> 225\n",
      "czech ---> 6\n",
      "taiwan ---> 235\n",
      "germany ---> 652\n",
      "belgium ---> 45\n",
      "dj ---> 1390\n",
      "drinks ---> 14315\n",
      "restaurantspricerange2 ---> 66128\n",
      "vegan ---> 121\n",
      "vegetarian ---> 72\n",
      "validated ---> 297\n",
      "hawai ---> 249\n",
      "divey ---> 1085\n",
      "agesallowed ---> 261\n",
      "bar ---> 17998\n",
      "hipster ---> 952\n",
      "open24hours ---> 28\n",
      "restaurantsdelivery ---> 10880\n",
      "mexico ---> 4042\n",
      "greece ---> 956\n",
      "goodfordancing ---> 1725\n",
      "corkage ---> 140\n",
      "alcohol ---> 43594\n",
      "spain ---> 795\n",
      "happyhour ---> 5761\n",
      "intimate ---> 567\n",
      "scandinavian ---> 13\n",
      "live ---> 1190\n",
      "businessacceptscreditcards ---> 61629\n",
      "background_music ---> 1784\n",
      "dinner ---> 15304\n",
      "hastv ---> 22330\n",
      "goodforkids ---> 38752\n",
      "colombia ---> 37\n",
      "china ---> 3960\n",
      "smoking ---> 7111\n",
      "ukraine ---> 17\n",
      "korea ---> 697\n",
      "restaurantsattire ---> 44801\n",
      "byappointmentonly ---> 528\n",
      "video ---> 190\n",
      "india ---> 1309\n",
      "friday ---> 4160\n",
      "noiselevel ---> 40114\n",
      "classy ---> 899\n",
      "middleeast ---> 2344\n",
      "res ---> 74347\n",
      "tuesday ---> 633\n",
      "bikeparking ---> 37092\n",
      "thursday ---> 2377\n",
      "malaysia ---> 61\n",
      "pakistan ---> 349\n",
      "brunch ---> 3552\n",
      "laos ---> 14\n",
      "outdoorseating ---> 20448\n",
      "restaurantsreservations ---> 18498\n",
      "latenight ---> 2478\n",
      "wheelchairaccessible ---> 24744\n",
      "touristy ---> 211\n",
      "italy ---> 4527\n",
      "romantic ---> 518\n",
      "dogsallowed ---> 2050\n",
      "japan ---> 2900\n",
      "hungary ---> 27\n",
      "restaurantstakeout ---> 49278\n",
      "france ---> 231\n",
      "africa ---> 128\n",
      "ethiopia ---> 73\n",
      "breakfast ---> 3726\n",
      "england ---> 603\n",
      "nepal ---> 47\n",
      "switzerland ---> 47\n",
      "trendy ---> 1930\n",
      "businessacceptsbitcoin ---> 66\n",
      "restaurantstableservice ---> 25637\n",
      "dessert ---> 30890\n",
      "byobcorkage ---> 1400\n",
      "monday ---> 650\n",
      "valet ---> 1269\n",
      "poland ---> 599\n",
      "vietnam ---> 928\n",
      "caters ---> 17307\n",
      "wifi ---> 42439\n",
      "upscale ---> 389\n",
      "karaoke ---> 233\n",
      "jukebox ---> 1100\n",
      "casual ---> 18830\n",
      "peru ---> 92\n"
     ]
    }
   ],
   "source": [
    "for feature in features:\n",
    "    print feature,\"--->\", ( restDf[feature] != 0 ).sum()"
   ]
  },
  {
   "cell_type": "code",
   "execution_count": 25,
   "metadata": {
    "collapsed": true
   },
   "outputs": [],
   "source": [
    "south_america = ['cuba','haiti','venezuela','colombia','caribbean','puertorico','hawai','peru','latin']"
   ]
  },
  {
   "cell_type": "code",
   "execution_count": 26,
   "metadata": {
    "collapsed": true
   },
   "outputs": [],
   "source": [
    "restDf['south_america'] = np.where(restDf['cuba'] | restDf['peru'] | restDf['haiti'] |restDf['venezuela'] |\n",
    "                               restDf['colombia'] |restDf['caribbean'] \n",
    "                                   |restDf['puertorico'] |restDf['hawai'] | restDf['latin'] == 1,1,0 )\n"
   ]
  },
  {
   "cell_type": "code",
   "execution_count": 27,
   "metadata": {},
   "outputs": [
    {
     "name": "stdout",
     "output_type": "stream",
     "text": [
      "Unnamed: 0 ---> 75911\n",
      "restaurantscounterservice ---> 246\n",
      "lunch ---> 17831\n",
      "cuba ---> 66\n",
      "wednesday ---> 1077\n",
      "street ---> 11727\n",
      "haiti ---> 9\n",
      "asian ---> 129\n",
      "cambodia ---> 33\n",
      "ireland ---> 209\n",
      "acceptsinsurance ---> 52\n",
      "thailand ---> 1291\n",
      "restaurantsgoodforgroups ---> 42734\n",
      "venezuela ---> 20\n",
      "garage ---> 3093\n",
      "canada ---> 1357\n",
      "latin ---> 473\n",
      "caribbean ---> 509\n",
      "coatcheck ---> 860\n",
      "lot ---> 22565\n",
      "drivethru ---> 2352\n",
      "sunday ---> 1181\n",
      "puertorico ---> 19\n",
      "america ---> 2648\n",
      "saturday ---> 4250\n",
      "portugal ---> 225\n",
      "czech ---> 6\n",
      "taiwan ---> 235\n",
      "germany ---> 652\n",
      "belgium ---> 45\n",
      "dj ---> 1390\n",
      "drinks ---> 14315\n",
      "restaurantspricerange2 ---> 66128\n",
      "vegan ---> 121\n",
      "vegetarian ---> 72\n",
      "validated ---> 297\n",
      "hawai ---> 249\n",
      "divey ---> 1085\n",
      "agesallowed ---> 261\n",
      "bar ---> 17998\n",
      "hipster ---> 952\n",
      "open24hours ---> 28\n",
      "restaurantsdelivery ---> 10880\n",
      "mexico ---> 4042\n",
      "greece ---> 956\n",
      "goodfordancing ---> 1725\n",
      "corkage ---> 140\n",
      "alcohol ---> 43594\n",
      "spain ---> 795\n",
      "happyhour ---> 5761\n",
      "intimate ---> 567\n",
      "scandinavian ---> 13\n",
      "live ---> 1190\n",
      "businessacceptscreditcards ---> 61629\n",
      "background_music ---> 1784\n",
      "dinner ---> 15304\n",
      "hastv ---> 22330\n",
      "goodforkids ---> 38752\n",
      "colombia ---> 37\n",
      "china ---> 3960\n",
      "smoking ---> 7111\n",
      "ukraine ---> 17\n",
      "korea ---> 697\n",
      "restaurantsattire ---> 44801\n",
      "byappointmentonly ---> 528\n",
      "video ---> 190\n",
      "india ---> 1309\n",
      "friday ---> 4160\n",
      "noiselevel ---> 40114\n",
      "classy ---> 899\n",
      "middleeast ---> 2344\n",
      "res ---> 74347\n",
      "tuesday ---> 633\n",
      "bikeparking ---> 37092\n",
      "thursday ---> 2377\n",
      "malaysia ---> 61\n",
      "pakistan ---> 349\n",
      "brunch ---> 3552\n",
      "laos ---> 14\n",
      "outdoorseating ---> 20448\n",
      "restaurantsreservations ---> 18498\n",
      "latenight ---> 2478\n",
      "wheelchairaccessible ---> 24744\n",
      "touristy ---> 211\n",
      "italy ---> 4527\n",
      "romantic ---> 518\n",
      "dogsallowed ---> 2050\n",
      "japan ---> 2900\n",
      "hungary ---> 27\n",
      "restaurantstakeout ---> 49278\n",
      "france ---> 231\n",
      "africa ---> 128\n",
      "ethiopia ---> 73\n",
      "breakfast ---> 3726\n",
      "england ---> 603\n",
      "nepal ---> 47\n",
      "switzerland ---> 47\n",
      "trendy ---> 1930\n",
      "businessacceptsbitcoin ---> 66\n",
      "restaurantstableservice ---> 25637\n",
      "dessert ---> 30890\n",
      "byobcorkage ---> 1400\n",
      "monday ---> 650\n",
      "valet ---> 1269\n",
      "poland ---> 599\n",
      "vietnam ---> 928\n",
      "caters ---> 17307\n",
      "wifi ---> 42439\n",
      "upscale ---> 389\n",
      "karaoke ---> 233\n",
      "jukebox ---> 1100\n",
      "casual ---> 18830\n",
      "peru ---> 92\n",
      "south_america ---> 1290\n"
     ]
    }
   ],
   "source": [
    "features = restDf.columns\n",
    "for feature in features:\n",
    "    print feature,\"--->\", ( restDf[feature] != 0 ).sum()"
   ]
  },
  {
   "cell_type": "code",
   "execution_count": 28,
   "metadata": {
    "collapsed": true
   },
   "outputs": [],
   "source": [
    "restDf = restDf.drop(south_america, axis = 1)"
   ]
  },
  {
   "cell_type": "code",
   "execution_count": 29,
   "metadata": {},
   "outputs": [
    {
     "data": {
      "text/html": [
       "<div>\n",
       "<style>\n",
       "    .dataframe thead tr:only-child th {\n",
       "        text-align: right;\n",
       "    }\n",
       "\n",
       "    .dataframe thead th {\n",
       "        text-align: left;\n",
       "    }\n",
       "\n",
       "    .dataframe tbody tr th {\n",
       "        vertical-align: top;\n",
       "    }\n",
       "</style>\n",
       "<table border=\"1\" class=\"dataframe\">\n",
       "  <thead>\n",
       "    <tr style=\"text-align: right;\">\n",
       "      <th></th>\n",
       "      <th>Unnamed: 0</th>\n",
       "      <th>restaurantscounterservice</th>\n",
       "      <th>lunch</th>\n",
       "      <th>wednesday</th>\n",
       "      <th>street</th>\n",
       "      <th>asian</th>\n",
       "      <th>cambodia</th>\n",
       "      <th>ireland</th>\n",
       "      <th>acceptsinsurance</th>\n",
       "      <th>thailand</th>\n",
       "      <th>...</th>\n",
       "      <th>valet</th>\n",
       "      <th>poland</th>\n",
       "      <th>vietnam</th>\n",
       "      <th>caters</th>\n",
       "      <th>wifi</th>\n",
       "      <th>upscale</th>\n",
       "      <th>karaoke</th>\n",
       "      <th>jukebox</th>\n",
       "      <th>casual</th>\n",
       "      <th>south_america</th>\n",
       "    </tr>\n",
       "  </thead>\n",
       "  <tbody>\n",
       "    <tr>\n",
       "      <th>0</th>\n",
       "      <td>wJ-961JWdVhJXhWQf4Jlcw</td>\n",
       "      <td>0</td>\n",
       "      <td>0</td>\n",
       "      <td>0</td>\n",
       "      <td>0</td>\n",
       "      <td>0</td>\n",
       "      <td>0</td>\n",
       "      <td>0</td>\n",
       "      <td>0</td>\n",
       "      <td>0</td>\n",
       "      <td>...</td>\n",
       "      <td>0</td>\n",
       "      <td>0</td>\n",
       "      <td>0</td>\n",
       "      <td>0</td>\n",
       "      <td>1</td>\n",
       "      <td>0</td>\n",
       "      <td>0</td>\n",
       "      <td>0</td>\n",
       "      <td>0</td>\n",
       "      <td>0</td>\n",
       "    </tr>\n",
       "    <tr>\n",
       "      <th>1</th>\n",
       "      <td>bPDfUbhr5Jab_fPTNTn9oQ</td>\n",
       "      <td>0</td>\n",
       "      <td>0</td>\n",
       "      <td>0</td>\n",
       "      <td>1</td>\n",
       "      <td>0</td>\n",
       "      <td>0</td>\n",
       "      <td>0</td>\n",
       "      <td>0</td>\n",
       "      <td>0</td>\n",
       "      <td>...</td>\n",
       "      <td>0</td>\n",
       "      <td>0</td>\n",
       "      <td>0</td>\n",
       "      <td>0</td>\n",
       "      <td>1</td>\n",
       "      <td>0</td>\n",
       "      <td>0</td>\n",
       "      <td>0</td>\n",
       "      <td>0</td>\n",
       "      <td>0</td>\n",
       "    </tr>\n",
       "    <tr>\n",
       "      <th>2</th>\n",
       "      <td>9f68hfHK6gNyHWmt9guiJw</td>\n",
       "      <td>0</td>\n",
       "      <td>0</td>\n",
       "      <td>0</td>\n",
       "      <td>0</td>\n",
       "      <td>0</td>\n",
       "      <td>0</td>\n",
       "      <td>0</td>\n",
       "      <td>0</td>\n",
       "      <td>0</td>\n",
       "      <td>...</td>\n",
       "      <td>0</td>\n",
       "      <td>0</td>\n",
       "      <td>0</td>\n",
       "      <td>1</td>\n",
       "      <td>1</td>\n",
       "      <td>0</td>\n",
       "      <td>0</td>\n",
       "      <td>0</td>\n",
       "      <td>0</td>\n",
       "      <td>0</td>\n",
       "    </tr>\n",
       "    <tr>\n",
       "      <th>3</th>\n",
       "      <td>hXWUEd7I7tmbXdQsfYY5tA</td>\n",
       "      <td>0</td>\n",
       "      <td>0</td>\n",
       "      <td>0</td>\n",
       "      <td>0</td>\n",
       "      <td>0</td>\n",
       "      <td>0</td>\n",
       "      <td>0</td>\n",
       "      <td>0</td>\n",
       "      <td>0</td>\n",
       "      <td>...</td>\n",
       "      <td>0</td>\n",
       "      <td>0</td>\n",
       "      <td>0</td>\n",
       "      <td>0</td>\n",
       "      <td>0</td>\n",
       "      <td>0</td>\n",
       "      <td>0</td>\n",
       "      <td>0</td>\n",
       "      <td>0</td>\n",
       "      <td>0</td>\n",
       "    </tr>\n",
       "    <tr>\n",
       "      <th>4</th>\n",
       "      <td>Xe0x73pcUQtVzowF1RC0UA</td>\n",
       "      <td>0</td>\n",
       "      <td>0</td>\n",
       "      <td>0</td>\n",
       "      <td>0</td>\n",
       "      <td>0</td>\n",
       "      <td>0</td>\n",
       "      <td>0</td>\n",
       "      <td>0</td>\n",
       "      <td>0</td>\n",
       "      <td>...</td>\n",
       "      <td>0</td>\n",
       "      <td>0</td>\n",
       "      <td>0</td>\n",
       "      <td>0</td>\n",
       "      <td>0</td>\n",
       "      <td>0</td>\n",
       "      <td>0</td>\n",
       "      <td>0</td>\n",
       "      <td>0</td>\n",
       "      <td>0</td>\n",
       "    </tr>\n",
       "  </tbody>\n",
       "</table>\n",
       "<p>5 rows × 105 columns</p>\n",
       "</div>"
      ],
      "text/plain": [
       "               Unnamed: 0  restaurantscounterservice  lunch  wednesday  \\\n",
       "0  wJ-961JWdVhJXhWQf4Jlcw                          0      0          0   \n",
       "1  bPDfUbhr5Jab_fPTNTn9oQ                          0      0          0   \n",
       "2  9f68hfHK6gNyHWmt9guiJw                          0      0          0   \n",
       "3  hXWUEd7I7tmbXdQsfYY5tA                          0      0          0   \n",
       "4  Xe0x73pcUQtVzowF1RC0UA                          0      0          0   \n",
       "\n",
       "   street  asian  cambodia  ireland  acceptsinsurance  thailand  \\\n",
       "0       0      0         0        0                 0         0   \n",
       "1       1      0         0        0                 0         0   \n",
       "2       0      0         0        0                 0         0   \n",
       "3       0      0         0        0                 0         0   \n",
       "4       0      0         0        0                 0         0   \n",
       "\n",
       "       ...        valet  poland  vietnam  caters  wifi  upscale  karaoke  \\\n",
       "0      ...            0       0        0       0     1        0        0   \n",
       "1      ...            0       0        0       0     1        0        0   \n",
       "2      ...            0       0        0       1     1        0        0   \n",
       "3      ...            0       0        0       0     0        0        0   \n",
       "4      ...            0       0        0       0     0        0        0   \n",
       "\n",
       "   jukebox  casual  south_america  \n",
       "0        0       0              0  \n",
       "1        0       0              0  \n",
       "2        0       0              0  \n",
       "3        0       0              0  \n",
       "4        0       0              0  \n",
       "\n",
       "[5 rows x 105 columns]"
      ]
     },
     "execution_count": 29,
     "metadata": {},
     "output_type": "execute_result"
    }
   ],
   "source": [
    "restDf.head()"
   ]
  },
  {
   "cell_type": "code",
   "execution_count": 30,
   "metadata": {},
   "outputs": [
    {
     "data": {
      "text/plain": [
       "(75911, 105)"
      ]
     },
     "execution_count": 30,
     "metadata": {},
     "output_type": "execute_result"
    }
   ],
   "source": [
    "restDf.shape"
   ]
  },
  {
   "cell_type": "code",
   "execution_count": 31,
   "metadata": {},
   "outputs": [
    {
     "name": "stdout",
     "output_type": "stream",
     "text": [
      "Unnamed: 0 ---> 75911\n",
      "restaurantscounterservice ---> 246\n",
      "lunch ---> 17831\n",
      "wednesday ---> 1077\n",
      "street ---> 11727\n",
      "asian ---> 129\n",
      "cambodia ---> 33\n",
      "ireland ---> 209\n",
      "acceptsinsurance ---> 52\n",
      "thailand ---> 1291\n",
      "restaurantsgoodforgroups ---> 42734\n",
      "garage ---> 3093\n",
      "canada ---> 1357\n",
      "coatcheck ---> 860\n",
      "lot ---> 22565\n",
      "drivethru ---> 2352\n",
      "sunday ---> 1181\n",
      "america ---> 2648\n",
      "saturday ---> 4250\n",
      "portugal ---> 225\n",
      "czech ---> 6\n",
      "taiwan ---> 235\n",
      "germany ---> 652\n",
      "belgium ---> 45\n",
      "dj ---> 1390\n",
      "drinks ---> 14315\n",
      "restaurantspricerange2 ---> 66128\n",
      "vegan ---> 121\n",
      "vegetarian ---> 72\n",
      "validated ---> 297\n",
      "divey ---> 1085\n",
      "agesallowed ---> 261\n",
      "bar ---> 17998\n",
      "hipster ---> 952\n",
      "open24hours ---> 28\n",
      "restaurantsdelivery ---> 10880\n",
      "mexico ---> 4042\n",
      "greece ---> 956\n",
      "goodfordancing ---> 1725\n",
      "corkage ---> 140\n",
      "alcohol ---> 43594\n",
      "spain ---> 795\n",
      "happyhour ---> 5761\n",
      "intimate ---> 567\n",
      "scandinavian ---> 13\n",
      "live ---> 1190\n",
      "businessacceptscreditcards ---> 61629\n",
      "background_music ---> 1784\n",
      "dinner ---> 15304\n",
      "hastv ---> 22330\n",
      "goodforkids ---> 38752\n",
      "china ---> 3960\n",
      "smoking ---> 7111\n",
      "ukraine ---> 17\n",
      "korea ---> 697\n",
      "restaurantsattire ---> 44801\n",
      "byappointmentonly ---> 528\n",
      "video ---> 190\n",
      "india ---> 1309\n",
      "friday ---> 4160\n",
      "noiselevel ---> 40114\n",
      "classy ---> 899\n",
      "middleeast ---> 2344\n",
      "res ---> 74347\n",
      "tuesday ---> 633\n",
      "bikeparking ---> 37092\n",
      "thursday ---> 2377\n",
      "malaysia ---> 61\n",
      "pakistan ---> 349\n",
      "brunch ---> 3552\n",
      "laos ---> 14\n",
      "outdoorseating ---> 20448\n",
      "restaurantsreservations ---> 18498\n",
      "latenight ---> 2478\n",
      "wheelchairaccessible ---> 24744\n",
      "touristy ---> 211\n",
      "italy ---> 4527\n",
      "romantic ---> 518\n",
      "dogsallowed ---> 2050\n",
      "japan ---> 2900\n",
      "hungary ---> 27\n",
      "restaurantstakeout ---> 49278\n",
      "france ---> 231\n",
      "africa ---> 128\n",
      "ethiopia ---> 73\n",
      "breakfast ---> 3726\n",
      "england ---> 603\n",
      "nepal ---> 47\n",
      "switzerland ---> 47\n",
      "trendy ---> 1930\n",
      "businessacceptsbitcoin ---> 66\n",
      "restaurantstableservice ---> 25637\n",
      "dessert ---> 30890\n",
      "byobcorkage ---> 1400\n",
      "monday ---> 650\n",
      "valet ---> 1269\n",
      "poland ---> 599\n",
      "vietnam ---> 928\n",
      "caters ---> 17307\n",
      "wifi ---> 42439\n",
      "upscale ---> 389\n",
      "karaoke ---> 233\n",
      "jukebox ---> 1100\n",
      "casual ---> 18830\n",
      "south_america ---> 1290\n"
     ]
    }
   ],
   "source": [
    "features = restDf.columns\n",
    "for feature in features:\n",
    "    print feature,\"--->\", ( restDf[feature] != 0 ).sum()"
   ]
  },
  {
   "cell_type": "code",
   "execution_count": 32,
   "metadata": {
    "collapsed": true
   },
   "outputs": [],
   "source": [
    "indian_sub = ['india','pakistan','nepal']\n",
    "rest_asia = ['asian','cambodia','thailand','malaysia','laos','vietnam']\n",
    "china_nearby = ['taiwan','china','korea','japan']"
   ]
  },
  {
   "cell_type": "code",
   "execution_count": 33,
   "metadata": {
    "collapsed": true
   },
   "outputs": [],
   "source": [
    "restDf['indian_sub'] = np.where(restDf['india'] | restDf['pakistan'] | restDf['nepal'] == 1,1,0 )\n",
    "restDf['rest_asia'] = np.where(restDf['asian'] | restDf['cambodia'] | restDf['thailand'] |restDf['malaysia'] |\n",
    "                               restDf['laos'] |restDf['vietnam']== 1,1,0 )\n",
    "restDf['china_nearby'] = np.where(restDf['taiwan'] | restDf['china'] | restDf['korea'] |restDf['japan']== 1,1,0 )\n"
   ]
  },
  {
   "cell_type": "code",
   "execution_count": 34,
   "metadata": {
    "collapsed": true
   },
   "outputs": [],
   "source": [
    "restDf = restDf.drop(indian_sub, axis = 1)\n",
    "restDf = restDf.drop(rest_asia, axis = 1)\n",
    "restDf = restDf.drop(china_nearby, axis = 1)"
   ]
  },
  {
   "cell_type": "code",
   "execution_count": 35,
   "metadata": {},
   "outputs": [
    {
     "data": {
      "text/plain": [
       "(75911, 95)"
      ]
     },
     "execution_count": 35,
     "metadata": {},
     "output_type": "execute_result"
    }
   ],
   "source": [
    "restDf.shape"
   ]
  },
  {
   "cell_type": "code",
   "execution_count": 36,
   "metadata": {
    "scrolled": true
   },
   "outputs": [
    {
     "name": "stdout",
     "output_type": "stream",
     "text": [
      "Unnamed: 0 ---> 75911\n",
      "restaurantscounterservice ---> 246\n",
      "lunch ---> 17831\n",
      "wednesday ---> 1077\n",
      "street ---> 11727\n",
      "ireland ---> 209\n",
      "acceptsinsurance ---> 52\n",
      "restaurantsgoodforgroups ---> 42734\n",
      "garage ---> 3093\n",
      "canada ---> 1357\n",
      "coatcheck ---> 860\n",
      "lot ---> 22565\n",
      "drivethru ---> 2352\n",
      "sunday ---> 1181\n",
      "america ---> 2648\n",
      "saturday ---> 4250\n",
      "portugal ---> 225\n",
      "czech ---> 6\n",
      "germany ---> 652\n",
      "belgium ---> 45\n",
      "dj ---> 1390\n",
      "drinks ---> 14315\n",
      "restaurantspricerange2 ---> 66128\n",
      "vegan ---> 121\n",
      "vegetarian ---> 72\n",
      "validated ---> 297\n",
      "divey ---> 1085\n",
      "agesallowed ---> 261\n",
      "bar ---> 17998\n",
      "hipster ---> 952\n",
      "open24hours ---> 28\n",
      "restaurantsdelivery ---> 10880\n",
      "mexico ---> 4042\n",
      "greece ---> 956\n",
      "goodfordancing ---> 1725\n",
      "corkage ---> 140\n",
      "alcohol ---> 43594\n",
      "spain ---> 795\n",
      "happyhour ---> 5761\n",
      "intimate ---> 567\n",
      "scandinavian ---> 13\n",
      "live ---> 1190\n",
      "businessacceptscreditcards ---> 61629\n",
      "background_music ---> 1784\n",
      "dinner ---> 15304\n",
      "hastv ---> 22330\n",
      "goodforkids ---> 38752\n",
      "smoking ---> 7111\n",
      "ukraine ---> 17\n",
      "restaurantsattire ---> 44801\n",
      "byappointmentonly ---> 528\n",
      "video ---> 190\n",
      "friday ---> 4160\n",
      "noiselevel ---> 40114\n",
      "classy ---> 899\n",
      "middleeast ---> 2344\n",
      "res ---> 74347\n",
      "tuesday ---> 633\n",
      "bikeparking ---> 37092\n",
      "thursday ---> 2377\n",
      "brunch ---> 3552\n",
      "outdoorseating ---> 20448\n",
      "restaurantsreservations ---> 18498\n",
      "latenight ---> 2478\n",
      "wheelchairaccessible ---> 24744\n",
      "touristy ---> 211\n",
      "italy ---> 4527\n",
      "romantic ---> 518\n",
      "dogsallowed ---> 2050\n",
      "hungary ---> 27\n",
      "restaurantstakeout ---> 49278\n",
      "france ---> 231\n",
      "africa ---> 128\n",
      "ethiopia ---> 73\n",
      "breakfast ---> 3726\n",
      "england ---> 603\n",
      "switzerland ---> 47\n",
      "trendy ---> 1930\n",
      "businessacceptsbitcoin ---> 66\n",
      "restaurantstableservice ---> 25637\n",
      "dessert ---> 30890\n",
      "byobcorkage ---> 1400\n",
      "monday ---> 650\n",
      "valet ---> 1269\n",
      "poland ---> 599\n",
      "caters ---> 17307\n",
      "wifi ---> 42439\n",
      "upscale ---> 389\n",
      "karaoke ---> 233\n",
      "jukebox ---> 1100\n",
      "casual ---> 18830\n",
      "south_america ---> 1290\n",
      "indian_sub ---> 1346\n",
      "rest_asia ---> 2203\n",
      "china_nearby ---> 7209\n"
     ]
    }
   ],
   "source": [
    "features = restDf.columns\n",
    "for feature in features:\n",
    "    print feature,\"--->\", ( restDf[feature] != 0 ).sum()"
   ]
  },
  {
   "cell_type": "code",
   "execution_count": 37,
   "metadata": {
    "collapsed": true
   },
   "outputs": [],
   "source": [
    "rest_europe = ['ireland','portugal','czech','germany','belgium','greece','spain','scandinavian','ukraine','hungary','france','england','switzerland','poland']"
   ]
  },
  {
   "cell_type": "code",
   "execution_count": 38,
   "metadata": {
    "collapsed": true
   },
   "outputs": [],
   "source": [
    "restDf['rest_europe'] = np.where(restDf['ireland'] | restDf['portugal'] | restDf['czech'] |restDf['germany'] |\n",
    "                               restDf['belgium'] |restDf['greece'] \n",
    "                                   |restDf['spain'] |restDf['scandinavian'] | restDf['ukraine'] |\n",
    "                                 restDf['hungary'] |restDf['france'] \n",
    "                                   |restDf['england'] |restDf['switzerland'] | restDf['poland'] == 1,1,0 )\n"
   ]
  },
  {
   "cell_type": "code",
   "execution_count": 39,
   "metadata": {
    "collapsed": true
   },
   "outputs": [],
   "source": [
    "restDf = restDf.drop(rest_europe, axis = 1)"
   ]
  },
  {
   "cell_type": "code",
   "execution_count": 40,
   "metadata": {},
   "outputs": [
    {
     "data": {
      "text/plain": [
       "(75911, 82)"
      ]
     },
     "execution_count": 40,
     "metadata": {},
     "output_type": "execute_result"
    }
   ],
   "source": [
    "restDf.shape"
   ]
  },
  {
   "cell_type": "code",
   "execution_count": 41,
   "metadata": {},
   "outputs": [
    {
     "name": "stdout",
     "output_type": "stream",
     "text": [
      "Unnamed: 0 ---> 75911\n",
      "restaurantscounterservice ---> 246\n",
      "lunch ---> 17831\n",
      "wednesday ---> 1077\n",
      "street ---> 11727\n",
      "acceptsinsurance ---> 52\n",
      "restaurantsgoodforgroups ---> 42734\n",
      "garage ---> 3093\n",
      "canada ---> 1357\n",
      "coatcheck ---> 860\n",
      "lot ---> 22565\n",
      "drivethru ---> 2352\n",
      "sunday ---> 1181\n",
      "america ---> 2648\n",
      "saturday ---> 4250\n",
      "dj ---> 1390\n",
      "drinks ---> 14315\n",
      "restaurantspricerange2 ---> 66128\n",
      "vegan ---> 121\n",
      "vegetarian ---> 72\n",
      "validated ---> 297\n",
      "divey ---> 1085\n",
      "agesallowed ---> 261\n",
      "bar ---> 17998\n",
      "hipster ---> 952\n",
      "open24hours ---> 28\n",
      "restaurantsdelivery ---> 10880\n",
      "mexico ---> 4042\n",
      "goodfordancing ---> 1725\n",
      "corkage ---> 140\n",
      "alcohol ---> 43594\n",
      "happyhour ---> 5761\n",
      "intimate ---> 567\n",
      "live ---> 1190\n",
      "businessacceptscreditcards ---> 61629\n",
      "background_music ---> 1784\n",
      "dinner ---> 15304\n",
      "hastv ---> 22330\n",
      "goodforkids ---> 38752\n",
      "smoking ---> 7111\n",
      "restaurantsattire ---> 44801\n",
      "byappointmentonly ---> 528\n",
      "video ---> 190\n",
      "friday ---> 4160\n",
      "noiselevel ---> 40114\n",
      "classy ---> 899\n",
      "middleeast ---> 2344\n",
      "res ---> 74347\n",
      "tuesday ---> 633\n",
      "bikeparking ---> 37092\n",
      "thursday ---> 2377\n",
      "brunch ---> 3552\n",
      "outdoorseating ---> 20448\n",
      "restaurantsreservations ---> 18498\n",
      "latenight ---> 2478\n",
      "wheelchairaccessible ---> 24744\n",
      "touristy ---> 211\n",
      "italy ---> 4527\n",
      "romantic ---> 518\n",
      "dogsallowed ---> 2050\n",
      "restaurantstakeout ---> 49278\n",
      "africa ---> 128\n",
      "ethiopia ---> 73\n",
      "breakfast ---> 3726\n",
      "trendy ---> 1930\n",
      "businessacceptsbitcoin ---> 66\n",
      "restaurantstableservice ---> 25637\n",
      "dessert ---> 30890\n",
      "byobcorkage ---> 1400\n",
      "monday ---> 650\n",
      "valet ---> 1269\n",
      "caters ---> 17307\n",
      "wifi ---> 42439\n",
      "upscale ---> 389\n",
      "karaoke ---> 233\n",
      "jukebox ---> 1100\n",
      "casual ---> 18830\n",
      "south_america ---> 1290\n",
      "indian_sub ---> 1346\n",
      "rest_asia ---> 2203\n",
      "china_nearby ---> 7209\n",
      "rest_europe ---> 3903\n"
     ]
    }
   ],
   "source": [
    "features = restDf.columns\n",
    "for feature in features:\n",
    "    print feature,\"--->\", ( restDf[feature] != 0 ).sum()"
   ]
  },
  {
   "cell_type": "code",
   "execution_count": 35,
   "metadata": {},
   "outputs": [
    {
     "ename": "NameError",
     "evalue": "name 'restDf' is not defined",
     "output_type": "error",
     "traceback": [
      "\u001b[0;31m---------------------------------------------------------------------------\u001b[0m",
      "\u001b[0;31mNameError\u001b[0m                                 Traceback (most recent call last)",
      "\u001b[0;32m<ipython-input-35-70d7ee2a33b3>\u001b[0m in \u001b[0;36m<module>\u001b[0;34m()\u001b[0m\n\u001b[1;32m      1\u001b[0m \u001b[0mfeature_drop_list_days\u001b[0m \u001b[0;34m=\u001b[0m \u001b[0;34m[\u001b[0m\u001b[0;34m'monday'\u001b[0m\u001b[0;34m,\u001b[0m\u001b[0;34m'tuesday'\u001b[0m\u001b[0;34m,\u001b[0m\u001b[0;34m'wednesday'\u001b[0m\u001b[0;34m,\u001b[0m\u001b[0;34m'thursday'\u001b[0m\u001b[0;34m,\u001b[0m\u001b[0;34m'friday'\u001b[0m\u001b[0;34m,\u001b[0m\u001b[0;34m'saturday'\u001b[0m\u001b[0;34m,\u001b[0m\u001b[0;34m'sunday'\u001b[0m\u001b[0;34m]\u001b[0m\u001b[0;34m\u001b[0m\u001b[0m\n\u001b[0;32m----> 2\u001b[0;31m \u001b[0mrestDf\u001b[0m \u001b[0;34m=\u001b[0m \u001b[0mrestDf\u001b[0m\u001b[0;34m.\u001b[0m\u001b[0mdrop\u001b[0m\u001b[0;34m(\u001b[0m\u001b[0mfeature_drop_list_days\u001b[0m\u001b[0;34m,\u001b[0m \u001b[0maxis\u001b[0m \u001b[0;34m=\u001b[0m \u001b[0;36m1\u001b[0m\u001b[0;34m)\u001b[0m\u001b[0;34m\u001b[0m\u001b[0m\n\u001b[0m",
      "\u001b[0;31mNameError\u001b[0m: name 'restDf' is not defined"
     ]
    }
   ],
   "source": [
    "feature_drop_list_days = ['monday','tuesday','wednesday','thursday','friday','saturday','sunday']\n",
    "restDf = restDf.drop(feature_drop_list_days, axis = 1)"
   ]
  },
  {
   "cell_type": "code",
   "execution_count": null,
   "metadata": {
    "collapsed": true
   },
   "outputs": [],
   "source": []
  },
  {
   "cell_type": "code",
   "execution_count": 43,
   "metadata": {
    "collapsed": true
   },
   "outputs": [],
   "source": [
    "parking_drop_list = [\"garage\",'street','validated','lot','valet']\n"
   ]
  },
  {
   "cell_type": "code",
   "execution_count": 44,
   "metadata": {
    "collapsed": true
   },
   "outputs": [],
   "source": [
    "restDf['has_parking'] = np.where(restDf['garage'] | restDf['street'] | restDf['validated'] |restDf['lot'] |\n",
    "                               restDf['valet'] == 1,1,0 )"
   ]
  },
  {
   "cell_type": "code",
   "execution_count": 45,
   "metadata": {
    "collapsed": true
   },
   "outputs": [],
   "source": [
    "restDf = restDf.drop(parking_drop_list, axis = 1)"
   ]
  },
  {
   "cell_type": "code",
   "execution_count": 46,
   "metadata": {
    "scrolled": true
   },
   "outputs": [
    {
     "name": "stdout",
     "output_type": "stream",
     "text": [
      "Unnamed: 0 ---> 75911\n",
      "restaurantscounterservice ---> 246\n",
      "lunch ---> 17831\n",
      "acceptsinsurance ---> 52\n",
      "restaurantsgoodforgroups ---> 42734\n",
      "canada ---> 1357\n",
      "coatcheck ---> 860\n",
      "drivethru ---> 2352\n",
      "america ---> 2648\n",
      "dj ---> 1390\n",
      "drinks ---> 14315\n",
      "restaurantspricerange2 ---> 66128\n",
      "vegan ---> 121\n",
      "vegetarian ---> 72\n",
      "divey ---> 1085\n",
      "agesallowed ---> 261\n",
      "bar ---> 17998\n",
      "hipster ---> 952\n",
      "open24hours ---> 28\n",
      "restaurantsdelivery ---> 10880\n",
      "mexico ---> 4042\n",
      "goodfordancing ---> 1725\n",
      "corkage ---> 140\n",
      "alcohol ---> 43594\n",
      "happyhour ---> 5761\n",
      "intimate ---> 567\n",
      "live ---> 1190\n",
      "businessacceptscreditcards ---> 61629\n",
      "background_music ---> 1784\n",
      "dinner ---> 15304\n",
      "hastv ---> 22330\n",
      "goodforkids ---> 38752\n",
      "smoking ---> 7111\n",
      "restaurantsattire ---> 44801\n",
      "byappointmentonly ---> 528\n",
      "video ---> 190\n",
      "noiselevel ---> 40114\n",
      "classy ---> 899\n",
      "middleeast ---> 2344\n",
      "res ---> 74347\n",
      "bikeparking ---> 37092\n",
      "brunch ---> 3552\n",
      "outdoorseating ---> 20448\n",
      "restaurantsreservations ---> 18498\n",
      "latenight ---> 2478\n",
      "wheelchairaccessible ---> 24744\n",
      "touristy ---> 211\n",
      "italy ---> 4527\n",
      "romantic ---> 518\n",
      "dogsallowed ---> 2050\n",
      "restaurantstakeout ---> 49278\n",
      "africa ---> 128\n",
      "ethiopia ---> 73\n",
      "breakfast ---> 3726\n",
      "trendy ---> 1930\n",
      "businessacceptsbitcoin ---> 66\n",
      "restaurantstableservice ---> 25637\n",
      "dessert ---> 30890\n",
      "byobcorkage ---> 1400\n",
      "caters ---> 17307\n",
      "wifi ---> 42439\n",
      "upscale ---> 389\n",
      "karaoke ---> 233\n",
      "jukebox ---> 1100\n",
      "casual ---> 18830\n",
      "south_america ---> 1290\n",
      "indian_sub ---> 1346\n",
      "rest_asia ---> 2203\n",
      "china_nearby ---> 7209\n",
      "rest_europe ---> 3903\n",
      "has_parking ---> 35123\n"
     ]
    }
   ],
   "source": [
    "features = restDf.columns\n",
    "for feature in features:\n",
    "    print feature,\"--->\", ( restDf[feature] != 0 ).sum()"
   ]
  },
  {
   "cell_type": "code",
   "execution_count": 47,
   "metadata": {},
   "outputs": [
    {
     "data": {
      "text/plain": [
       "(75911, 71)"
      ]
     },
     "execution_count": 47,
     "metadata": {},
     "output_type": "execute_result"
    }
   ],
   "source": [
    "restDf.shape\n"
   ]
  },
  {
   "cell_type": "code",
   "execution_count": 48,
   "metadata": {
    "collapsed": true
   },
   "outputs": [],
   "source": [
    "music_drop_list = [\"dj\",'background_music','karaoke','live','video','jukebox']\n",
    "restDf['has_music'] = np.where(restDf['dj'] | restDf['background_music'] | restDf['karaoke'] |restDf['live'] |\n",
    "                               restDf['video'] | restDf['jukebox'] == 1,1,0 )\n",
    "\n",
    "restDf = restDf.drop(music_drop_list, axis = 1)"
   ]
  },
  {
   "cell_type": "code",
   "execution_count": 49,
   "metadata": {
    "scrolled": true
   },
   "outputs": [
    {
     "name": "stdout",
     "output_type": "stream",
     "text": [
      "Unnamed: 0 ---> 75911\n",
      "restaurantscounterservice ---> 246\n",
      "lunch ---> 17831\n",
      "acceptsinsurance ---> 52\n",
      "restaurantsgoodforgroups ---> 42734\n",
      "canada ---> 1357\n",
      "coatcheck ---> 860\n",
      "drivethru ---> 2352\n",
      "america ---> 2648\n",
      "drinks ---> 14315\n",
      "restaurantspricerange2 ---> 66128\n",
      "vegan ---> 121\n",
      "vegetarian ---> 72\n",
      "divey ---> 1085\n",
      "agesallowed ---> 261\n",
      "bar ---> 17998\n",
      "hipster ---> 952\n",
      "open24hours ---> 28\n",
      "restaurantsdelivery ---> 10880\n",
      "mexico ---> 4042\n",
      "goodfordancing ---> 1725\n",
      "corkage ---> 140\n",
      "alcohol ---> 43594\n",
      "happyhour ---> 5761\n",
      "intimate ---> 567\n",
      "businessacceptscreditcards ---> 61629\n",
      "dinner ---> 15304\n",
      "hastv ---> 22330\n",
      "goodforkids ---> 38752\n",
      "smoking ---> 7111\n",
      "restaurantsattire ---> 44801\n",
      "byappointmentonly ---> 528\n",
      "noiselevel ---> 40114\n",
      "classy ---> 899\n",
      "middleeast ---> 2344\n",
      "res ---> 74347\n",
      "bikeparking ---> 37092\n",
      "brunch ---> 3552\n",
      "outdoorseating ---> 20448\n",
      "restaurantsreservations ---> 18498\n",
      "latenight ---> 2478\n",
      "wheelchairaccessible ---> 24744\n",
      "touristy ---> 211\n",
      "italy ---> 4527\n",
      "romantic ---> 518\n",
      "dogsallowed ---> 2050\n",
      "restaurantstakeout ---> 49278\n",
      "africa ---> 128\n",
      "ethiopia ---> 73\n",
      "breakfast ---> 3726\n",
      "trendy ---> 1930\n",
      "businessacceptsbitcoin ---> 66\n",
      "restaurantstableservice ---> 25637\n",
      "dessert ---> 30890\n",
      "byobcorkage ---> 1400\n",
      "caters ---> 17307\n",
      "wifi ---> 42439\n",
      "upscale ---> 389\n",
      "casual ---> 18830\n",
      "south_america ---> 1290\n",
      "indian_sub ---> 1346\n",
      "rest_asia ---> 2203\n",
      "china_nearby ---> 7209\n",
      "rest_europe ---> 3903\n",
      "has_parking ---> 35123\n",
      "has_music ---> 4693\n"
     ]
    }
   ],
   "source": [
    "features = restDf.columns\n",
    "for feature in features:\n",
    "    print feature,\"--->\", ( restDf[feature] != 0 ).sum()"
   ]
  },
  {
   "cell_type": "code",
   "execution_count": 50,
   "metadata": {},
   "outputs": [
    {
     "data": {
      "text/plain": [
       "(75911, 66)"
      ]
     },
     "execution_count": 50,
     "metadata": {},
     "output_type": "execute_result"
    }
   ],
   "source": [
    "restDf.shape"
   ]
  },
  {
   "cell_type": "code",
   "execution_count": 52,
   "metadata": {
    "collapsed": true
   },
   "outputs": [],
   "source": [
    "drop_list_threshold1 = ['restaurantscounterservice','acceptsinsurance','coatcheck','vegan','vegetarian',\n",
    "                        'agesallowed','open24hours','corkage','intimate','byappointmentonly','touristy',\n",
    "                        'romantic','businessacceptsbitcoin','upscale','ethiopia','africa']\n",
    "restDf = restDf.drop(drop_list_threshold1, axis = 1)"
   ]
  },
  {
   "cell_type": "code",
   "execution_count": 53,
   "metadata": {
    "collapsed": true
   },
   "outputs": [],
   "source": [
    "combine_canada_america = ['canada','america']\n",
    "restDf['canada_america'] = np.where(restDf['canada'] | restDf['america'] == 1,1,0 )\n",
    "restDf = restDf.drop(combine_canada_america, axis = 1)"
   ]
  },
  {
   "cell_type": "code",
   "execution_count": 54,
   "metadata": {},
   "outputs": [
    {
     "data": {
      "text/plain": [
       "(75911, 49)"
      ]
     },
     "execution_count": 54,
     "metadata": {},
     "output_type": "execute_result"
    }
   ],
   "source": [
    "restDf.shape"
   ]
  },
  {
   "cell_type": "markdown",
   "metadata": {},
   "source": [
    "## Analysis of collaborative filtering"
   ]
  },
  {
   "cell_type": "code",
   "execution_count": null,
   "metadata": {
    "collapsed": true
   },
   "outputs": [],
   "source": [
    "userid \t\t\t\t business_id \t\t\t predicted_rating \t actual_rating\n",
    "\n",
    "aiXFgj1oU-I3idtifgLRpA \t\t9xTx4vWlL2kkhUqNE4QaaQ \t\t4.94454922081 \t\t4.5\n",
    "aiXFgj1oU-I3idtifgLRpA \t\taRvCyCpwxgIqjXSSZ8pt3g \t\t4.93775708087 \t\t5.0\n",
    "aiXFgj1oU-I3idtifgLRpA \t\t8XVAcOZ02IGTQE-pvKhXXw \t\t4.89796142416 \t\t5.0\n",
    "aiXFgj1oU-I3idtifgLRpA \t\tixfpsy7M6vLAe0Xf-EWH4g \t\t4.89510587114 \t\t5.0\n",
    "aiXFgj1oU-I3idtifgLRpA \t\tWSZL9uQ9JMOrrulMKEl7Tw \t\t4.87333192135 \t\t4.5\n",
    "aiXFgj1oU-I3idtifgLRpA \t\tKPSaUzlYg4JLVbzrbA23uw \t\t4.86978506394 \t\t4.5"
   ]
  },
  {
   "cell_type": "code",
   "execution_count": 134,
   "metadata": {
    "scrolled": true
   },
   "outputs": [
    {
     "name": "stdout",
     "output_type": "stream",
     "text": [
      "yelping_since ----> 2006-12-29\n",
      "useful ----> 360\n",
      "compliment_photos ----> 1\n",
      "compliment_list ----> 0\n",
      "compliment_funny ----> 5\n",
      "funny ----> 45\n",
      "review_count ----> 87\n",
      "friends ----> [u'wA7QXD9tzUoUWNdwJROlGQ', u'JnA41k0eYeauhb3r3qGlNA', u'dBDNhT3QrMk0AkD-qa_hhw', u'V3O6KszIei-jTAKn9ulPag', u'bWk7c4oFdOVEhVe6FxkIBQ', u'JbK4QNcWCG_7izzW7rinzw', u'w2WTgiok2JJkZaApCw9FCg', u'_rAj8TYvXRH69ymOaNtFMg', u'L9eVgCM-e1lhrwcs82fd3g', u'fjTqua61Lh1PJs_F29IUoQ', u'ucal95umwk86-U8hdAkVpQ', u'8zWLCcLb1jCg27ibbQd-TQ', u'ZMZ8BtpBpCsJKfPvGvCvHg', u'iNVyzq9-Uu5e5ROiBb90nA', u'MwbVIWQNAtO6ZUVj0XCYZQ', u'C4NqiRTC0gDy8OoUfecVYQ', u'WKSY5_w7PhdX0XK0itKuRQ', u'lmUNha6pP99LTjCz8S0uGA', u'1562m-MUmax5bXW-M2c6HA', u'lvNm9qFeWw99OlTVyqUJmw', u'lxr9ilkkwH8rqMMBxttpmg', u'lOcY9Vlv0lYHies660r2Lg', u'eV2Ny_84E0Fp4z-QliRJrg', u'C_l-GUxlJJzfQGYdSeENzQ', u'THRw0P2cpCSOuUwBVthEtQ', u'l8gUDVwVvlHt1fAZw8YU7A', u'7Efjs3sc_rBX4DSmgIueSg', u'vcaeibpNGH2llQBXIo12Hg', u'9-n--WRL-gTBF6uNr0hHrQ', u'3lVvwcC9Jkxqmph66gUV5w', u'geVD5khJ-Ze77VdapTWGUA', u'UCc0pia4omzIsTA_lF6n2g', u'ec_U5MzReGkoOlbb4_KAcA', u'rnGkLqE1WIsv5-VLm5H6CA', u'HDXf4ziecnKFpIefWyqhaA', u'euWKuCKJr1yScdivpmYYng', u'LKMkkZcH2ie-UbD3Vf4hqw', u'SvPtuoc1-Ra1PNzMkmrAug', u'sT5xAmH1OrbouA_05kUniA', u'wmH6COIf2gtnoRpynqdwQw', u'YUI9vwvY9io1bS-LhdkB9w', u'ZAVOgqlEOpkk_IyPdzebAw', u'HwWzwwnxHJ7XqtEyWeRGJg', u'Bsy9F-59sl9OT_bvZNl3hA', u'xVlluQWsNk_umX1JrCoD8w', u'kMieIu2z7gOGn5ku_mYKGQ', u'0qpDh40Kvk85Veuv4rHKQQ', u'Q2IJZJwLfjcpoDFBdj0xGQ', u'atNpr39-xRlBthk2vGvpfA', u'IfnJLYhpuDXQ3eXwFcaODg']\n",
      "fans ----> 7\n",
      "compliment_note ----> 4\n",
      "compliment_plain ----> 1\n",
      "compliment_writer ----> 1\n",
      "compliment_cute ----> 2\n",
      "average_stars ----> 3.71\n",
      "user_id ----> aiXFgj1oU-I3idtifgLRpA\n",
      "compliment_more ----> 0\n",
      "elite ----> []\n",
      "compliment_hot ----> 2\n",
      "cool ----> 104\n",
      "name ----> eh\n",
      "compliment_profile ----> 0\n",
      "compliment_cool ----> 5\n"
     ]
    }
   ],
   "source": [
    "test_user_id = 'aiXFgj1oU-I3idtifgLRpA'\n",
    "f = open('user.json','r')\n",
    "for line in f:\n",
    "    jsonObject = json.loads(line)\n",
    "    if jsonObject.get('user_id') == test_user_id:\n",
    "        for attribute, value in jsonObject.iteritems():\n",
    "            print attribute,\"---->\",value # example usage\n",
    "        break;\n",
    "f.close()"
   ]
  },
  {
   "cell_type": "code",
   "execution_count": 145,
   "metadata": {
    "collapsed": true
   },
   "outputs": [],
   "source": [
    "test_user_id = 'aiXFgj1oU-I3idtifgLRpA'\n",
    "visited_rest_list = userRestaurantDict.get(test_user_id)\n",
    "visited_restaurant_objects = list()\n",
    "\n",
    "text_file = open(\"test_user_visited_rests.txt\", \"w\")\n",
    "f = open('restaurant.json','r')\n",
    "for line in f:\n",
    "    jsonObject = json.loads(line)\n",
    "    if jsonObject.get('business_id') in visited_rest_list:\n",
    "        visited_restaurant_objects.append(jsonObject)\n",
    "        text_file.write(str(jsonObject)+\"\\n\")\n",
    "text_file.close()"
   ]
  },
  {
   "cell_type": "code",
   "execution_count": 136,
   "metadata": {
    "scrolled": true
   },
   "outputs": [
    {
     "name": "stdout",
     "output_type": "stream",
     "text": [
      "city ----> Toronto\n",
      "neighborhood ----> Seaton Village\n",
      "name ----> Volta Espresso\n",
      "business_id ----> aRvCyCpwxgIqjXSSZ8pt3g\n",
      "longitude ----> -79.4120512\n",
      "hours ----> {u'Monday': u'7:00-17:00', u'Tuesday': u'7:00-17:00', u'Friday': u'7:00-17:00', u'Wednesday': u'7:00-17:00', u'Thursday': u'7:00-17:00', u'Sunday': u'7:00-17:00', u'Saturday': u'7:00-17:00'}\n",
      "state ----> ON\n",
      "postal_code ----> M5R 3G3\n",
      "categories ----> [u'Restaurants', u'Cafes', u'Coffee & Tea', u'Food']\n",
      "stars ----> 5.0\n",
      "address ----> 866 Bathurst Street\n",
      "latitude ----> 43.6669766\n",
      "review_count ----> 25\n",
      "attributes ----> {u'GoodForMeal': {u'dessert': False, u'latenight': False, u'lunch': False, u'dinner': False, u'brunch': False, u'breakfast': False}, u'BusinessParking': {u'garage': False, u'street': True, u'validated': False, u'lot': False, u'valet': False}, u'HasTV': False, u'GoodForKids': True, u'WiFi': u'free', u'RestaurantsAttire': u'casual', u'RestaurantsReservations': False, u'OutdoorSeating': True, u'RestaurantsPriceRange2': 1, u'BikeParking': True, u'RestaurantsDelivery': False, u'RestaurantsTakeOut': True, u'RestaurantsGoodForGroups': True}\n",
      "is_open ----> 1\n",
      "===========================================================\n",
      "city ----> Mississauga\n",
      "neighborhood ----> \n",
      "name ----> Ricks Good Eats\n",
      "business_id ----> KPSaUzlYg4JLVbzrbA23uw\n",
      "longitude ----> -79.686327\n",
      "hours ----> {u'Tuesday': u'11:30-19:30', u'Friday': u'11:30-21:00', u'Wednesday': u'11:30-19:30', u'Thursday': u'11:30-19:30', u'Saturday': u'12:00-21:00'}\n",
      "state ----> ON\n",
      "postal_code ----> L5T 2V3\n",
      "categories ----> [u'Restaurants', u'Food', u'Indian', u'Canadian (New)']\n",
      "stars ----> 4.5\n",
      "address ----> 6660 Kennedy Road, Unit 1\n",
      "latitude ----> 43.6485908\n",
      "review_count ----> 95\n",
      "attributes ----> {u'BusinessParking': {u'garage': False, u'street': False, u'validated': False, u'lot': True, u'valet': False}, u'GoodForMeal': {u'dessert': False, u'latenight': False, u'lunch': True, u'dinner': True, u'brunch': False, u'breakfast': False}, u'Alcohol': u'none', u'Caters': True, u'HasTV': False, u'GoodForKids': True, u'NoiseLevel': u'average', u'WiFi': u'free', u'RestaurantsAttire': u'casual', u'RestaurantsReservations': False, u'OutdoorSeating': False, u'RestaurantsPriceRange2': 2, u'BikeParking': False, u'RestaurantsDelivery': False, u'Ambience': {u'romantic': False, u'intimate': False, u'classy': False, u'hipster': False, u'touristy': False, u'trendy': True, u'upscale': False, u'casual': True}, u'RestaurantsTakeOut': True, u'RestaurantsGoodForGroups': True, u'RestaurantsTableService': False}\n",
      "is_open ----> 1\n",
      "===========================================================\n",
      "city ----> Toronto\n",
      "neighborhood ----> Scarborough\n",
      "name ----> Mayze\n",
      "business_id ----> WSZL9uQ9JMOrrulMKEl7Tw\n",
      "longitude ----> -79.2445393614\n",
      "hours ----> {u'Monday': u'18:30-0:00', u'Tuesday': u'18:30-0:00', u'Friday': u'18:30-1:00', u'Wednesday': u'18:30-0:00', u'Thursday': u'18:30-0:00', u'Sunday': u'13:30-0:00', u'Saturday': u'13:30-1:00'}\n",
      "state ----> ON\n",
      "postal_code ----> M1B 5V6\n",
      "categories ----> [u'Arts & Entertainment', u'Party & Event Planning', u'Active Life', u'Event Planning & Services', u'Arcades', u'Escape Games']\n",
      "stars ----> 4.5\n",
      "address ----> 2210 Markham Road, Unit 3\n",
      "latitude ----> 43.8092819369\n",
      "review_count ----> 27\n",
      "attributes ----> {u'DogsAllowed': False, u'BusinessParking': {u'garage': False, u'street': False, u'validated': False, u'lot': True, u'valet': False}, u'BikeParking': True, u'GoodForKids': True, u'ByAppointmentOnly': True, u'WheelchairAccessible': False}\n",
      "is_open ----> 1\n",
      "===========================================================\n",
      "city ----> Toronto\n",
      "neighborhood ----> Corktown\n",
      "name ----> Keeffaa Coffee\n",
      "business_id ----> 9xTx4vWlL2kkhUqNE4QaaQ\n",
      "longitude ----> -79.3637686\n",
      "hours ----> {u'Monday': u'9:00-19:00', u'Tuesday': u'9:00-19:00', u'Friday': u'9:00-19:00', u'Wednesday': u'9:00-19:00', u'Thursday': u'9:00-19:00', u'Sunday': u'9:00-19:00', u'Saturday': u'9:00-19:00'}\n",
      "state ----> ON\n",
      "postal_code ----> M5A 1T1\n",
      "categories ----> [u'Ethiopian', u'Coffee & Tea', u'Restaurants', u'Food']\n",
      "stars ----> 4.5\n",
      "address ----> 368 Queen Street E\n",
      "latitude ----> 43.6559016\n",
      "review_count ----> 53\n",
      "attributes ----> {u'GoodForMeal': {u'dessert': False, u'latenight': False, u'lunch': False, u'dinner': False, u'brunch': True, u'breakfast': False}, u'Alcohol': u'none', u'Caters': True, u'HasTV': False, u'GoodForKids': True, u'NoiseLevel': u'quiet', u'WiFi': u'free', u'RestaurantsAttire': u'casual', u'RestaurantsReservations': False, u'OutdoorSeating': True, u'BusinessAcceptsCreditCards': False, u'RestaurantsPriceRange2': 2, u'BikeParking': True, u'RestaurantsTableService': True, u'RestaurantsDelivery': False, u'Ambience': {u'romantic': False, u'intimate': False, u'classy': False, u'hipster': False, u'touristy': False, u'trendy': False, u'upscale': False, u'casual': True}, u'RestaurantsTakeOut': True, u'RestaurantsGoodForGroups': True, u'BusinessParking': {u'garage': False, u'street': True, u'validated': False, u'lot': False, u'valet': False}}\n",
      "is_open ----> 0\n",
      "===========================================================\n",
      "city ----> Toronto\n",
      "neighborhood ----> Parkdale\n",
      "name ----> Plentea\n",
      "business_id ----> 8XVAcOZ02IGTQE-pvKhXXw\n",
      "longitude ----> -79.4287317\n",
      "hours ----> {u'Monday': u'8:00-21:00', u'Tuesday': u'8:00-21:00', u'Friday': u'8:00-21:00', u'Wednesday': u'8:00-21:00', u'Thursday': u'8:00-21:00', u'Sunday': u'11:00-20:00', u'Saturday': u'10:00-20:00'}\n",
      "state ----> ON\n",
      "postal_code ----> M6K 0B9\n",
      "categories ----> [u'Cafes', u'Coffee & Tea', u'Restaurants', u'Food', u'Tea Rooms']\n",
      "stars ----> 5.0\n",
      "address ----> 1205 Queen Street W\n",
      "latitude ----> 43.6418685\n",
      "review_count ----> 48\n",
      "attributes ----> {u'BusinessParking': {u'garage': False, u'street': True, u'validated': False, u'lot': False, u'valet': False}, u'Caters': False, u'WiFi': u'free', u'OutdoorSeating': False, u'RestaurantsPriceRange2': 1, u'BikeParking': True, u'RestaurantsTakeOut': True, u'WheelchairAccessible': True}\n",
      "is_open ----> 1\n",
      "===========================================================\n",
      "city ----> Toronto\n",
      "neighborhood ----> Wallace Emerson\n",
      "name ----> Wallace Espresso\n",
      "business_id ----> ixfpsy7M6vLAe0Xf-EWH4g\n",
      "longitude ----> -79.4442284724\n",
      "hours ----> {u'Monday': u'7:00-18:00', u'Tuesday': u'7:00-18:00', u'Friday': u'7:00-18:00', u'Wednesday': u'7:00-18:00', u'Thursday': u'7:00-18:00', u'Sunday': u'7:00-18:00', u'Saturday': u'7:00-18:00'}\n",
      "state ----> ON\n",
      "postal_code ----> M6H 1V6\n",
      "categories ----> [u'Cafes', u'Coffee & Tea', u'Restaurants', u'Food']\n",
      "stars ----> 5.0\n",
      "address ----> 188 Wallace Avenue\n",
      "latitude ----> 43.6624238862\n",
      "review_count ----> 34\n",
      "attributes ----> {u'GoodForMeal': {u'dessert': False, u'latenight': False, u'lunch': False, u'dinner': False, u'brunch': False, u'breakfast': False}, u'Alcohol': u'none', u'Caters': False, u'HasTV': False, u'GoodForKids': False, u'NoiseLevel': u'quiet', u'WiFi': u'no', u'RestaurantsAttire': u'casual', u'RestaurantsReservations': False, u'OutdoorSeating': True, u'BusinessAcceptsCreditCards': False, u'RestaurantsPriceRange2': 1, u'BikeParking': True, u'RestaurantsTableService': False, u'RestaurantsDelivery': False, u'Ambience': {u'romantic': False, u'intimate': False, u'classy': False, u'hipster': True, u'touristy': False, u'trendy': False, u'upscale': False, u'casual': False}, u'RestaurantsTakeOut': True, u'RestaurantsGoodForGroups': False, u'WheelchairAccessible': True, u'BusinessParking': {u'garage': False, u'street': True, u'validated': False, u'lot': False, u'valet': False}}\n",
      "is_open ----> 1\n",
      "===========================================================\n"
     ]
    }
   ],
   "source": [
    "rest_list = ['9xTx4vWlL2kkhUqNE4QaaQ','aRvCyCpwxgIqjXSSZ8pt3g','8XVAcOZ02IGTQE-pvKhXXw',\n",
    "            'ixfpsy7M6vLAe0Xf-EWH4g','WSZL9uQ9JMOrrulMKEl7Tw','KPSaUzlYg4JLVbzrbA23uw']\n",
    "f = open('restaurant.json','r')\n",
    "for line in f:\n",
    "    jsonObject = json.loads(line)\n",
    "    if jsonObject.get('business_id') in rest_list:\n",
    "        for attribute, value in jsonObject.iteritems():\n",
    "            print attribute,\"---->\",value\n",
    "        print \"===========================================================\"\n",
    "f.close()"
   ]
  },
  {
   "cell_type": "code",
   "execution_count": 135,
   "metadata": {
    "scrolled": true
   },
   "outputs": [
    {
     "name": "stdout",
     "output_type": "stream",
     "text": [
      "{\"business_id\": \"mLwM-h2YhXl2NCgdS84_Bw\", \"name\": \"South Florida Style Chicken & Ribs\", \"neighborhood\": \"Eastland\", \"address\": \"2824 Milton Rd\", \"city\": \"Charlotte\", \"state\": \"NC\", \"postal_code\": \"28215\", \"latitude\": 35.23687, \"longitude\": -80.7419759, \"stars\": 4.5, \"review_count\": 4, \"is_open\": 0, \"attributes\": {\"GoodForMeal\": {\"dessert\": false, \"latenight\": false, \"lunch\": false, \"dinner\": false, \"breakfast\": false, \"brunch\": false}, \"HasTV\": false, \"RestaurantsGoodForGroups\": true, \"NoiseLevel\": \"average\", \"RestaurantsAttire\": \"casual\", \"RestaurantsReservations\": false, \"OutdoorSeating\": false, \"BusinessAcceptsCreditCards\": false, \"RestaurantsPriceRange2\": 2, \"RestaurantsDelivery\": true, \"Ambience\": {\"romantic\": false, \"intimate\": false, \"classy\": false, \"hipster\": false, \"divey\": false, \"touristy\": false, \"trendy\": false, \"upscale\": false, \"casual\": false}, \"RestaurantsTakeOut\": true, \"GoodForKids\": true}, \"categories\": [\"Food\", \"Soul Food\", \"Convenience Stores\", \"Restaurants\"], \"hours\": {\"Monday\": \"10:00-22:00\", \"Tuesday\": \"10:00-22:00\", \"Friday\": \"10:00-22:00\", \"Wednesday\": \"10:00-22:00\", \"Thursday\": \"10:00-22:00\", \"Sunday\": \"10:00-22:00\", \"Saturday\": \"10:00-22:00\"}}\n",
      "\n"
     ]
    }
   ],
   "source": [
    "f = open('restaurant.json','r')\n",
    "print f.readline()\n",
    "f.close()"
   ]
  },
  {
   "cell_type": "code",
   "execution_count": 147,
   "metadata": {
    "collapsed": true
   },
   "outputs": [],
   "source": [
    "def extract_star(json):\n",
    "    try:\n",
    "        # Also convert to int since update_time will be string.  When comparing\n",
    "        # strings, \"10\" is smaller than \"2\".\n",
    "        return int(json.get('stars'))\n",
    "    except KeyError:\n",
    "        return 0\n",
    "\n",
    "# lines.sort() is more efficient than lines = lines.sorted()\n",
    "visited_restaurant_objects.sort(key=extract_star, reverse=True)"
   ]
  },
  {
   "cell_type": "code",
   "execution_count": 148,
   "metadata": {
    "collapsed": true
   },
   "outputs": [],
   "source": [
    "text_file = open(\"test_user_visited_sorted_stars.txt\", \"w\")\n",
    "for jsonObject in visited_restaurant_objects:\n",
    "    text_file.write(str(jsonObject)+\"\\n\\n\\n\")\n",
    "text_file.close()"
   ]
  },
  {
   "cell_type": "markdown",
   "metadata": {},
   "source": [
    "## list of reviews made by test_user"
   ]
  },
  {
   "cell_type": "code",
   "execution_count": 149,
   "metadata": {
    "collapsed": true
   },
   "outputs": [],
   "source": [
    "review_obj_list = list()\n",
    "count = 0\n",
    "f = open('review.json','r')\n",
    "for line in f:\n",
    "    jsonObject = json.loads(line)\n",
    "    if jsonObject.get('user_id') == test_user_id:\n",
    "        review_obj_list.append(jsonObject)\n",
    "f.close()"
   ]
  },
  {
   "cell_type": "code",
   "execution_count": 151,
   "metadata": {
    "collapsed": true
   },
   "outputs": [],
   "source": [
    "review_obj_list.sort(key=extract_star, reverse=True)"
   ]
  },
  {
   "cell_type": "code",
   "execution_count": 152,
   "metadata": {
    "collapsed": true
   },
   "outputs": [],
   "source": [
    "text_file = open(\"reviews_by_test_user.txt\", \"w\")\n",
    "for jsonObject in review_obj_list:\n",
    "    text_file.write(str(jsonObject)+\"\\n\\n\\n\")\n",
    "text_file.close()"
   ]
  },
  {
   "cell_type": "code",
   "execution_count": null,
   "metadata": {
    "collapsed": true
   },
   "outputs": [],
   "source": []
  }
 ],
 "metadata": {
  "kernelspec": {
   "display_name": "Python 2",
   "language": "python",
   "name": "python2"
  },
  "language_info": {
   "codemirror_mode": {
    "name": "ipython",
    "version": 2
   },
   "file_extension": ".py",
   "mimetype": "text/x-python",
   "name": "python",
   "nbconvert_exporter": "python",
   "pygments_lexer": "ipython2",
   "version": "2.7.13"
  }
 },
 "nbformat": 4,
 "nbformat_minor": 2
}
