{
 "cells": [
  {
   "cell_type": "code",
   "execution_count": 86,
   "metadata": {
    "collapsed": true
   },
   "outputs": [],
   "source": [
    "from surprise import Reader, Dataset\n",
    "import pickle\n",
    "import operator\n",
    "import json\n",
    "from math import sin, cos, sqrt, atan2, radians"
   ]
  },
  {
   "cell_type": "code",
   "execution_count": 63,
   "metadata": {},
   "outputs": [
    {
     "name": "stdout",
     "output_type": "stream",
     "text": [
      "Evaluating RMSE, MAE of algorithm SVD.\n",
      "\n",
      "------------\n",
      "Fold 1\n",
      "RMSE: 1.1590\n",
      "MAE:  0.9312\n",
      "------------\n",
      "Fold 2\n",
      "RMSE: 1.1634\n",
      "MAE:  0.9334\n",
      "------------\n",
      "Fold 3\n",
      "RMSE: 1.1634\n",
      "MAE:  0.9333\n",
      "------------\n",
      "Fold 4\n",
      "RMSE: 1.1574\n",
      "MAE:  0.9290\n",
      "------------\n",
      "Fold 5\n",
      "RMSE: 1.1577\n",
      "MAE:  0.9291\n",
      "------------\n",
      "------------\n",
      "Mean RMSE: 1.1602\n",
      "Mean MAE : 0.9312\n",
      "------------\n",
      "------------\n"
     ]
    }
   ],
   "source": [
    "# Define the format\n",
    "reader = Reader(line_format='user item rating', sep='\\t')\n",
    "\n",
    "# Load the data from the file using the reader format\n",
    "data = Dataset.load_from_file('./States/ON.txt', reader=reader)\n",
    "\n",
    "data.split(n_folds=5)\n",
    "\n",
    "from surprise import SVD, KNNBasic, evaluate\n",
    "algo = SVD()\n",
    "evaluate(algo, data, measures=['RMSE', 'MAE'])\n",
    "\n",
    "# Retrieve the trainset.\n",
    "trainset = data.build_full_trainset()\n",
    "algo.train(trainset)"
   ]
  },
  {
   "cell_type": "code",
   "execution_count": 65,
   "metadata": {
    "collapsed": true
   },
   "outputs": [],
   "source": [
    "users = ['aiXFgj1oU-I3idtifgLRpA'] #,'6MDjqs8QE2A_TA0CYi8-UQ','fwSsSQXLvip6MkayAa_vyQ','DBDpUbkMmn0aWhkiSB5fRw']\n",
    "#rests = ['-2q4dnUw0gGJniGW2aPamQ', '-2q4dnUw0gGJniGW2aPamQ', '-2q4dnUw0gGJniGW2aPamQ','fl2TPNWrchkCbNEg0utjvw']\n",
    "#'sY8V_cgLOAsq0Udh-mDHJQ', 'aiXFgj1oU-I3idtifgLRpA'"
   ]
  },
  {
   "cell_type": "code",
   "execution_count": 68,
   "metadata": {},
   "outputs": [
    {
     "name": "stdout",
     "output_type": "stream",
     "text": [
      "====== Best 5 restaurantId and Star Rating======\n",
      "_FmFqEDwSzyTov_BDeaHbA \t5.0\n",
      "g2fU5POyJ01a3-REvTF-fg \t5.0\n",
      "JpBx7K0z5P0wZz6Lj92HYw \t5.0\n",
      "uiAWarzgCNIwTZiOT96izw \t5.0\n",
      "Pb--hnqqksCHP7UIU_a3zg \t5.0\n",
      "UFUpwYO7hqy6FescZTIksw \t5.0\n",
      "==================================================\n"
     ]
    }
   ],
   "source": [
    "restauratVsRating = list() #(userid, restaurent_id, estimated rating, actual rating)\n",
    "for user in users:\n",
    "    notVisited = getNotVisitedSet(user,'ON')\n",
    "    printFiveBest(notVisited)\n",
    "    for rest in notVisited:\n",
    "        predObj = algo.predict(user, rest)\n",
    "        restauratVsRating.append((user,rest,predObj.est,businessIdVsStarDict.get(rest)))        "
   ]
  },
  {
   "cell_type": "code",
   "execution_count": 110,
   "metadata": {},
   "outputs": [],
   "source": [
    "# outer = open('restaurant.json', 'w')\n",
    "# f = open('business.json', 'r')\n",
    "# for line in f:\n",
    "#     jsonObject = json.loads(line)\n",
    "#     if(businessIDDict.get(jsonObject.get('business_id'))):\n",
    "#         outer.write(line)\n",
    "# f.close()\n",
    "# outer.close()"
   ]
  },
  {
   "cell_type": "code",
   "execution_count": 70,
   "metadata": {},
   "outputs": [
    {
     "name": "stdout",
     "output_type": "stream",
     "text": [
      "userid \t\t\t\t business_id \t\t\t predicted_rating \t actual_rating\n",
      "\n",
      "aiXFgj1oU-I3idtifgLRpA \t\t9xTx4vWlL2kkhUqNE4QaaQ \t\t4.94454922081 \t\t4.5\n",
      "aiXFgj1oU-I3idtifgLRpA \t\taRvCyCpwxgIqjXSSZ8pt3g \t\t4.93775708087 \t\t5.0\n",
      "aiXFgj1oU-I3idtifgLRpA \t\t8XVAcOZ02IGTQE-pvKhXXw \t\t4.89796142416 \t\t5.0\n",
      "aiXFgj1oU-I3idtifgLRpA \t\tixfpsy7M6vLAe0Xf-EWH4g \t\t4.89510587114 \t\t5.0\n",
      "aiXFgj1oU-I3idtifgLRpA \t\tWSZL9uQ9JMOrrulMKEl7Tw \t\t4.87333192135 \t\t4.5\n",
      "aiXFgj1oU-I3idtifgLRpA \t\tKPSaUzlYg4JLVbzrbA23uw \t\t4.86978506394 \t\t4.5\n"
     ]
    }
   ],
   "source": [
    "# Sort restaurants according to rating (High to low)\n",
    "restauratVsRating.sort(key=lambda x: x[2])\n",
    "i = len(restauratVsRating)-1\n",
    "count = 0\n",
    "print \"userid \\t\\t\\t\\t business_id \\t\\t\\t predicted_rating \\t actual_rating\\n\"\n",
    "while True:\n",
    "    tup = restauratVsRating[i]\n",
    "    print tup[0],\"\\t\\t\",tup[1],\"\\t\\t\",tup[2],\"\\t\\t\",tup[3]\n",
    "    i -= 1\n",
    "    count += 1\n",
    "    if count>5:\n",
    "        break"
   ]
  },
  {
   "cell_type": "code",
   "execution_count": 22,
   "metadata": {
    "collapsed": true
   },
   "outputs": [],
   "source": [
    "def getNotVisitedSet(userId,state):\n",
    "    restaurants = set(userStateAllRestaurantdict.get((user,state)))\n",
    "    visited = set(userRestaurantDict.get(user))\n",
    "    notVisited = restaurants.difference(visited)\n",
    "    return notVisited"
   ]
  },
  {
   "cell_type": "code",
   "execution_count": 67,
   "metadata": {
    "collapsed": true
   },
   "outputs": [],
   "source": [
    "def printFiveBest(notVisited):\n",
    "        lst = list()\n",
    "        for res in notVisited:\n",
    "            lst.append((res,businessIdVsStarDict.get(res)))\n",
    "        lst.sort(key=lambda x: x[1])\n",
    "        print \"====== Best 5 restaurantId and Star Rating======\"\n",
    "        i = len(lst)-1\n",
    "        count = 0\n",
    "        while True:\n",
    "            tup = lst[i]\n",
    "            print tup[0],\"\\t\",tup[1]\n",
    "            i -= 1\n",
    "            count += 1\n",
    "            if count>5:\n",
    "                break\n",
    "        print \"==================================================\""
   ]
  },
  {
   "cell_type": "code",
   "execution_count": 71,
   "metadata": {},
   "outputs": [
    {
     "name": "stdout",
     "output_type": "stream",
     "text": [
      "sY8V_cgLOAsq0Udh-mDHJQ\tv2WhjAB3PIBA8J8VxG3wEg\t5\n",
      "\n",
      "J76FnutwAI2PkkB4A-LNwg\tv2WhjAB3PIBA8J8VxG3wEg\t4\n",
      "\n",
      "aiXFgj1oU-I3idtifgLRpA\tv2WhjAB3PIBA8J8VxG3wEg\t4\n",
      "\n",
      "fMdgChfFv_fI_HRxif7T_w\tv2WhjAB3PIBA8J8VxG3wEg\t4\n",
      "\n"
     ]
    },
    {
     "data": {
      "text/plain": [
       "<function close>"
      ]
     },
     "execution_count": 71,
     "metadata": {},
     "output_type": "execute_result"
    }
   ],
   "source": [
    "f = open('States/ON.txt', 'r')\n",
    "print f.readline()\n",
    "print f.readline()\n",
    "print f.readline()\n",
    "print f.readline()\n",
    "f.close"
   ]
  },
  {
   "cell_type": "code",
   "execution_count": 8,
   "metadata": {
    "collapsed": true
   },
   "outputs": [],
   "source": [
    "#userStateAllRestaurantdict\n",
    "with open('userStateAllRestaurantdict.pickle', 'rb') as handle:\n",
    "    userStateAllRestaurantdict = pickle.load(handle)\n",
    "    \n",
    "with open('userRestaurantDict.pickle', 'rb') as handle:\n",
    "    userRestaurantDict = pickle.load(handle)"
   ]
  },
  {
   "cell_type": "code",
   "execution_count": 27,
   "metadata": {
    "collapsed": true
   },
   "outputs": [],
   "source": [
    "# business ID dict has restaurant \n",
    "with open('businessIDDict.pickle', 'rb') as handle:\n",
    "    businessIDDict = pickle.load(handle)"
   ]
  },
  {
   "cell_type": "code",
   "execution_count": 31,
   "metadata": {
    "collapsed": true
   },
   "outputs": [],
   "source": [
    "businessIdVsStarDict = dict()\n",
    "f = open('business.json', 'r')\n",
    "for line in f:\n",
    "    jsonObject = json.loads(line)\n",
    "    if(businessIDDict.get(jsonObject.get('business_id'))):\n",
    "        businessIdVsStarDict[jsonObject.get('business_id')] = jsonObject.get('stars')\n",
    "    \n",
    "f.close()"
   ]
  },
  {
   "cell_type": "code",
   "execution_count": 87,
   "metadata": {},
   "outputs": [
    {
     "name": "stdout",
     "output_type": "stream",
     "text": [
      "{u'city': u'Charlotte', u'neighborhood': u'Eastland', u'name': u'South Florida Style Chicken & Ribs', u'business_id': u'mLwM-h2YhXl2NCgdS84_Bw', u'longitude': -80.7419759, u'hours': {u'Monday': u'10:00-22:00', u'Tuesday': u'10:00-22:00', u'Friday': u'10:00-22:00', u'Wednesday': u'10:00-22:00', u'Thursday': u'10:00-22:00', u'Sunday': u'10:00-22:00', u'Saturday': u'10:00-22:00'}, u'state': u'NC', u'postal_code': u'28215', u'categories': [u'Food', u'Soul Food', u'Convenience Stores', u'Restaurants'], u'stars': 4.5, u'address': u'2824 Milton Rd', u'latitude': 35.23687, u'review_count': 4, u'attributes': {u'GoodForMeal': {u'dessert': False, u'latenight': False, u'lunch': False, u'dinner': False, u'brunch': False, u'breakfast': False}, u'HasTV': False, u'GoodForKids': True, u'NoiseLevel': u'average', u'RestaurantsAttire': u'casual', u'RestaurantsReservations': False, u'OutdoorSeating': False, u'BusinessAcceptsCreditCards': False, u'RestaurantsPriceRange2': 2, u'RestaurantsDelivery': True, u'Ambience': {u'romantic': False, u'intimate': False, u'classy': False, u'hipster': False, u'divey': False, u'touristy': False, u'trendy': False, u'upscale': False, u'casual': False}, u'RestaurantsTakeOut': True, u'RestaurantsGoodForGroups': True}, u'is_open': 0}\n",
      "===============================\n",
      "{u'city': u'Toronto', u'neighborhood': u'Riverdale', u'name': u'The Tea Emporium', u'business_id': u'v2WhjAB3PIBA8J8VxG3wEg', u'longitude': -79.3532848, u'hours': {u'Monday': u'10:00-19:00', u'Tuesday': u'10:00-19:00', u'Friday': u'10:00-19:00', u'Wednesday': u'10:00-19:00', u'Thursday': u'10:00-19:00', u'Sunday': u'12:00-17:00', u'Saturday': u'10:00-18:00'}, u'state': u'ON', u'postal_code': u'M4K 1N7', u'categories': [u'Food', u'Coffee & Tea'], u'stars': 4.5, u'address': u'337 Danforth Avenue', u'latitude': 43.6771258, u'review_count': 7, u'attributes': {u'BusinessParking': {u'garage': False, u'street': True, u'validated': False, u'lot': False, u'valet': False}, u'WiFi': u'no', u'OutdoorSeating': False, u'BusinessAcceptsCreditCards': True, u'RestaurantsPriceRange2': 2, u'BikeParking': True, u'WheelchairAccessible': True}, u'is_open': 0}\n",
      "===============================\n",
      "{u'city': u'Phoenix', u'neighborhood': u'', u'name': u'Blimpie', u'business_id': u'duHFBe87uNSXImQmvBh87Q', u'longitude': -112.0388474, u'hours': {}, u'state': u'AZ', u'postal_code': u'85016', u'categories': [u'Sandwiches', u'Restaurants'], u'stars': 4.5, u'address': u'4719 N 20Th St', u'latitude': 33.5059283, u'review_count': 10, u'attributes': {u'GoodForMeal': {u'dessert': False, u'latenight': False, u'lunch': False, u'dinner': False, u'brunch': False, u'breakfast': False}, u'Alcohol': u'none', u'Caters': True, u'HasTV': False, u'GoodForKids': True, u'NoiseLevel': u'quiet', u'WiFi': u'no', u'RestaurantsAttire': u'casual', u'RestaurantsReservations': False, u'OutdoorSeating': False, u'BusinessAcceptsCreditCards': True, u'RestaurantsPriceRange2': 1, u'BikeParking': True, u'RestaurantsTableService': False, u'RestaurantsDelivery': False, u'Ambience': {u'romantic': False, u'intimate': False, u'classy': False, u'hipster': False, u'divey': False, u'touristy': False, u'trendy': False, u'upscale': False, u'casual': False}, u'RestaurantsTakeOut': True, u'RestaurantsGoodForGroups': True, u'BusinessParking': {u'garage': False, u'street': False, u'validated': False, u'lot': False, u'valet': False}}, u'is_open': 0}\n",
      "===============================\n"
     ]
    }
   ],
   "source": [
    "f = open('business.json', 'r')\n",
    "count = 0\n",
    "for line in f:\n",
    "    jsonObject = json.loads(line)\n",
    "    if(businessIDDict.get(jsonObject.get('business_id'))):\n",
    "        print jsonObject#.get('attributes')\n",
    "        print \"===============================\"\n",
    "        count += 1;\n",
    "        if count > 2: \n",
    "            break\n",
    "f.close()"
   ]
  },
  {
   "cell_type": "code",
   "execution_count": 84,
   "metadata": {},
   "outputs": [],
   "source": [
    "# f = open('business.json', 'r')\n",
    "# count = 0\n",
    "# for line in f:\n",
    "#     jsonObject = json.loads(line)\n",
    "#     print jsonObject\n",
    "#     print \"===============================\"\n",
    "#     count += 1;\n",
    "#     if count > 10: \n",
    "#         break\n",
    "# f.close()"
   ]
  },
  {
   "cell_type": "code",
   "execution_count": 88,
   "metadata": {},
   "outputs": [],
   "source": [
    "# distance b/w two points in KM \n",
    "def getDistance(lt1, lg1, lt2, lg2):\n",
    "    # approximate radius of earth in km\n",
    "    R = 6373.0\n",
    "\n",
    "    lat1 = radians(lt1)\n",
    "    lon1 = radians(lg1)\n",
    "    lat2 = radians(lt2)\n",
    "    lon2 = radians(lg2)\n",
    "\n",
    "    dlon = lon2 - lon1\n",
    "    dlat = lat2 - lat1\n",
    "\n",
    "    a = sin(dlat / 2)**2 + cos(lat1) * cos(lat2) * sin(dlon / 2)**2\n",
    "    c = 2 * atan2(sqrt(a), sqrt(1 - a))\n",
    "\n",
    "    distance = R * c\n",
    "    return distance"
   ]
  },
  {
   "cell_type": "code",
   "execution_count": 124,
   "metadata": {
    "collapsed": true
   },
   "outputs": [],
   "source": [
    "def getNearByRestaurants( lat, lon, radious, state):\n",
    "    restObjectList = list()\n",
    "    f = open('restaurant.json', 'r')\n",
    "    for line in f:\n",
    "        restObject = json.loads(line)\n",
    "        if restObject.get(\"state\")==state and getDistance(lat,lon,restObject.get('latitude'), restObject.get('longitude')) <= radious:\n",
    "            restObjectList.append(restObject)\n",
    "    f.close()\n",
    "    return restObjectList"
   ]
  },
  {
   "cell_type": "code",
   "execution_count": 128,
   "metadata": {
    "collapsed": true
   },
   "outputs": [],
   "source": [
    "lst = getNearByRestaurants(35.23687,-80.7419759,20,\"NC\")"
   ]
  },
  {
   "cell_type": "code",
   "execution_count": 129,
   "metadata": {},
   "outputs": [
    {
     "name": "stdout",
     "output_type": "stream",
     "text": [
      "0.0\n",
      "11.578147935\n",
      "13.1891849646\n",
      "5.76841899358\n",
      "6.38061405779\n",
      "17.8041208785\n"
     ]
    }
   ],
   "source": [
    "count = 0\n",
    "for l in lst:\n",
    "    print getDistance(35.23687,-80.7419759, l.get('latitude'), l.get('longitude') )\n",
    "    count += 1\n",
    "    if count > 5:\n",
    "        break"
   ]
  },
  {
   "cell_type": "code",
   "execution_count": 122,
   "metadata": {},
   "outputs": [
    {
     "name": "stdout",
     "output_type": "stream",
     "text": [
      "{\"business_id\": \"mLwM-h2YhXl2NCgdS84_Bw\", \"name\": \"South Florida Style Chicken & Ribs\", \"neighborhood\": \"Eastland\", \"address\": \"2824 Milton Rd\", \"city\": \"Charlotte\", \"state\": \"NC\", \"postal_code\": \"28215\", \"latitude\": 35.23687, \"longitude\": -80.7419759, \"stars\": 4.5, \"review_count\": 4, \"is_open\": 0, \"attributes\": {\"GoodForMeal\": {\"dessert\": false, \"latenight\": false, \"lunch\": false, \"dinner\": false, \"breakfast\": false, \"brunch\": false}, \"HasTV\": false, \"RestaurantsGoodForGroups\": true, \"NoiseLevel\": \"average\", \"RestaurantsAttire\": \"casual\", \"RestaurantsReservations\": false, \"OutdoorSeating\": false, \"BusinessAcceptsCreditCards\": false, \"RestaurantsPriceRange2\": 2, \"RestaurantsDelivery\": true, \"Ambience\": {\"romantic\": false, \"intimate\": false, \"classy\": false, \"hipster\": false, \"divey\": false, \"touristy\": false, \"trendy\": false, \"upscale\": false, \"casual\": false}, \"RestaurantsTakeOut\": true, \"GoodForKids\": true}, \"categories\": [\"Food\", \"Soul Food\", \"Convenience Stores\", \"Restaurants\"], \"hours\": {\"Monday\": \"10:00-22:00\", \"Tuesday\": \"10:00-22:00\", \"Friday\": \"10:00-22:00\", \"Wednesday\": \"10:00-22:00\", \"Thursday\": \"10:00-22:00\", \"Sunday\": \"10:00-22:00\", \"Saturday\": \"10:00-22:00\"}}\n",
      "\n",
      "{\"business_id\": \"v2WhjAB3PIBA8J8VxG3wEg\", \"name\": \"The Tea Emporium\", \"neighborhood\": \"Riverdale\", \"address\": \"337 Danforth Avenue\", \"city\": \"Toronto\", \"state\": \"ON\", \"postal_code\": \"M4K 1N7\", \"latitude\": 43.6771258, \"longitude\": -79.3532848, \"stars\": 4.5, \"review_count\": 7, \"is_open\": 0, \"attributes\": {\"BusinessParking\": {\"garage\": false, \"street\": true, \"validated\": false, \"lot\": false, \"valet\": false}, \"WiFi\": \"no\", \"OutdoorSeating\": false, \"BusinessAcceptsCreditCards\": true, \"RestaurantsPriceRange2\": 2, \"BikeParking\": true, \"WheelchairAccessible\": true}, \"categories\": [\"Food\", \"Coffee & Tea\"], \"hours\": {\"Monday\": \"10:00-19:00\", \"Tuesday\": \"10:00-19:00\", \"Friday\": \"10:00-19:00\", \"Wednesday\": \"10:00-19:00\", \"Thursday\": \"10:00-19:00\", \"Sunday\": \"12:00-17:00\", \"Saturday\": \"10:00-18:00\"}}\n",
      "\n"
     ]
    }
   ],
   "source": [
    "f = open('restaurant.json', 'r')\n",
    "print f.readline()\n",
    "print f.readline()\n",
    "f.close()"
   ]
  }
 ],
 "metadata": {
  "kernelspec": {
   "display_name": "Python 2",
   "language": "python",
   "name": "python2"
  },
  "language_info": {
   "codemirror_mode": {
    "name": "ipython",
    "version": 2
   },
   "file_extension": ".py",
   "mimetype": "text/x-python",
   "name": "python",
   "nbconvert_exporter": "python",
   "pygments_lexer": "ipython2",
   "version": "2.7.13"
  }
 },
 "nbformat": 4,
 "nbformat_minor": 2
}
